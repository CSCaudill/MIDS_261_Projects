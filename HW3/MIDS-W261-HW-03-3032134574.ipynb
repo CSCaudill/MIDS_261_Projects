{
 "cells": [
  {
   "cell_type": "code",
   "execution_count": 2,
   "metadata": {
    "collapsed": false
   },
   "outputs": [
    {
     "data": {
      "application/javascript": [
       "/**********************************************************************************************\n",
       "Known Mathjax Issue with Chrome - a rounding issue adds a border to the right of mathjax markup\n",
       "https://github.com/mathjax/MathJax/issues/1300\n",
       "A quick hack to fix this based on stackoverflow discussions: \n",
       "http://stackoverflow.com/questions/34277967/chrome-rendering-mathjax-equations-with-a-trailing-vertical-line\n",
       "**********************************************************************************************/\n",
       "\n",
       "$('.math>span').css(\"border-left-color\",\"transparent\")"
      ],
      "text/plain": [
       "<IPython.core.display.Javascript object>"
      ]
     },
     "metadata": {},
     "output_type": "display_data"
    }
   ],
   "source": [
    "%%javascript\n",
    "/**********************************************************************************************\n",
    "Known Mathjax Issue with Chrome - a rounding issue adds a border to the right of mathjax markup\n",
    "https://github.com/mathjax/MathJax/issues/1300\n",
    "A quick hack to fix this based on stackoverflow discussions: \n",
    "http://stackoverflow.com/questions/34277967/chrome-rendering-mathjax-equations-with-a-trailing-vertical-line\n",
    "**********************************************************************************************/\n",
    "\n",
    "$('.math>span').css(\"border-left-color\",\"transparent\")"
   ]
  },
  {
   "cell_type": "code",
   "execution_count": 3,
   "metadata": {
    "collapsed": true
   },
   "outputs": [],
   "source": [
    "%reload_ext autoreload\n",
    "%autoreload 2"
   ]
  },
  {
   "cell_type": "markdown",
   "metadata": {},
   "source": [
    "# MIDS - w261 Machine Learning At Scale\n",
    "__Course Lead:__ Dr James G. Shanahan (__email__ Jimi via  James.Shanahan _AT_ gmail.com)\n",
    "\n",
    "## Assignment - HW3\n",
    "\n",
    "\n",
    "---\n",
    "__Name:__  Chris Caudill   \n",
    "__Class:__ MIDS w261 Spring 2017 Group 1     \n",
    "__Email:__  CSCAUDILL@iSchool.Berkeley.edu     \n",
    "__StudentId__  3032134574    __End of StudentId__     \n",
    "__Week:__   3\n",
    "\n",
    "__NOTE:__ please replace `1234567` with your student id above      \n",
    "__Due Time:__ HW is due the Tuesday of the following week by 8AM (West coast time). I.e., Tuesday, Jan 31, 2017 in the case of this homework. "
   ]
  },
  {
   "cell_type": "markdown",
   "metadata": {},
   "source": [
    "# Table of Contents <a name=\"TOC\"></a> \n",
    "\n",
    "1.  [HW Intructions](#1)   \n",
    "2.  [HW Problems](#2)   \n",
    "    3.1.   [HW3.1](#3.1)     \n",
    "    3.2.   [HW3.2](#3.2)   \n",
    "    3.3  [HW3.3](#3.3)   \n",
    "    3.4  [HW3.4](#3.4)   \n",
    "    3.5  [HW3.5](#3.5)   \n",
    "    3.6  [HW3.6](#3.6)   \n",
    "    3.7  [HW3.7](#3.7)   \n",
    "    3.8  [HW3.8](#3.8)   \n",
    "       "
   ]
  },
  {
   "cell_type": "markdown",
   "metadata": {},
   "source": [
    "<a name=\"1\"></a>\n",
    "# 1 Instructions\n",
    "[Back to Table of Contents](#TOC)\n",
    "\n",
    "MIDS UC Berkeley, Machine Learning at Scale\n",
    "DATSCIW261 ASSIGNMENT #3\n",
    "\n",
    "Version 2017-26-1 \n",
    "\n",
    "\n",
    "### IMPORTANT\n",
    "\n",
    "This homework can be completed locally on your computer \n",
    "\n",
    "### === INSTRUCTIONS for SUBMISSIONS ===   \n",
    "Follow the instructions for submissions carefully.\n",
    "\n",
    "__<span style=\"color:red\">NEW:</span> Going forward, each student will have a `HW-<user>` repository for all assignments.__\n",
    "\n",
    "Click this link to enable you to create a github repo within the MIDS261 Classroom:   \n",
    "https://classroom.github.com/assignment-invitations/3b1d6c8e58351209f9dd865537111ff8   \n",
    "and follow the instructions to create a HW repo.\n",
    "\n",
    "Push the following to your HW github repo into the master branch:\n",
    "* Your local HW3 directory. Your repo file structure should look like this:\n",
    "\n",
    "```\n",
    "HW-<user>\n",
    "    --HW3\n",
    "       |__MIDS-W261-HW-03-<Student_id>.ipnb\n",
    "       |__MIDS-W261-HW-03-<Student_id>.pdf\n",
    "       |__some other hw3 file\n",
    "    --HW4\n",
    "       |__MIDS-W261-HW-04-<Student_id>.ipnb\n",
    "       |__MIDS-W261-HW-04-<Student_id>.pdf\n",
    "       |__some other hw4 file\n",
    "    etc..\n",
    "```    "
   ]
  },
  {
   "cell_type": "markdown",
   "metadata": {},
   "source": [
    "<a name=\"2\"></a>\n",
    "## HW3.0.\n",
    "1. How do you merge  two sorted  lists/arrays of records of the form [key, value]?\n",
    "1. Where is this  used in Hadoop MapReduce? [Hint within the shuffle]\n",
    "1. What is  a combiner function in the context of Hadoop? \n",
    "1. Give an example where it can be used and justify why it should be used in the context of this problem.\n",
    "1. What is the Hadoop shuffle?"
   ]
  },
  {
   "cell_type": "markdown",
   "metadata": {},
   "source": [
    "<a name=\"2\"></a>\n",
    "### HW3.0 Answers\n",
    "1. With the form [key, value], we merge two sorted lists using Priority Queue. This is initially done my establishing 3 pointers: One at the the start of each sorted list, and one at start of the merged list. We start by picking off the smallest element of the two sorted lists and add them to the merged list, incrementing the pointers along the way until we reach the end of the two sorted lists.\n",
    "1. sorting of merged lists occurs in the combiners\n",
    "1. A combiner is used to merge the intermediary lists generated from the mappers.\n",
    "1. In the context of our wordcount example, the mappers will intake records and establish an intermediary counts for each word that occurs. Although the mappers can technically perform local aggregation using arrays, a single word could still occur across multiple records or mappers. The combiner is used in this context to take those intermediary arrays and merge them into a single list. This is useful because we will be utilizing less memory by maintaining fewer lists of terms/counts.\n",
    "1. The Hadoop shuffle is the entire process that happens between the mapper output and the reducer input. This includes:\n",
    "        a. Partition, sort, combine\n",
    "        b. Mergesort\n",
    "        c. Send to reducer\n",
    "        d. Mergesort partition files\n",
    "        e. Stream to reducer\n",
    "        \n"
   ]
  },
  {
   "cell_type": "markdown",
   "metadata": {},
   "source": []
  },
  {
   "cell_type": "markdown",
   "metadata": {},
   "source": [
    "<a name=\"3.1\"></a>\n",
    "## HW3.1 consumer complaints dataset: Use Counters to do EDA (exploratory data analysis and to monitor progress)\n",
    "Counters are lightweight objects in Hadoop that allow you to keep track of system progress in both the map and reduce stages of processing. By default, Hadoop defines a number of standard counters in \"groups\"; these show up in the jobtracker webapp, giving you information such as \"Map input records\", \"Map output records\", etc. \n",
    "\n",
    "While processing information/data using MapReduce job, it is a challenge to monitor the progress of parallel threads running across nodes of distributed clusters. Moreover, it is also complicated to distinguish between the data that has been processed and the data which is yet to be processed. The MapReduce Framework offers a provision of user-defined Counters, which can be effectively utilized to monitor the progress of data across nodes of distributed clusters.\n",
    "\n",
    "Use the Consumer Complaints  Dataset provide here to complete this question:\n",
    "\n",
    "\n",
    "     https://www.dropbox.com/s/vbalm3yva2rr86m/Consumer_Complaints.csv?dl=0\n",
    "\n",
    "The consumer complaints dataset consists of diverse consumer complaints, which have been reported across the United States regarding various types of loans. The dataset consists of records of the form:\n",
    "\n",
    "Complaint ID,Product,Sub-product,Issue,Sub-issue,State,ZIP code,Submitted via,Date received,Date sent to company,Company,Company response,Timely response?,Consumer disputed?\n",
    "\n",
    "Here’s is the first few lines of the  of the Consumer Complaints  Dataset:\n",
    "```\n",
    "Complaint ID,Product,Sub-product,Issue,Sub-issue,State,ZIP code,Submitted via,Date received,Date sent to company,Company,Company response,Timely response?,Consumer disputed?\n",
    "1114245,Debt collection,Medical,Disclosure verification of debt,Not given enough info to verify debt,FL,32219,Web,11/13/2014,11/13/2014,\"Choice Recovery, Inc.\",Closed with explanation,Yes,\n",
    "1114488,Debt collection,Medical,Disclosure verification of debt,Right to dispute notice not received,TX,75006,Web,11/13/2014,11/13/2014,\"Expert Global Solutions, Inc.\",In progress,Yes,\n",
    "1114255,Bank account or service,Checking account,Deposits and withdrawals,,NY,11102,Web,11/13/2014,11/13/2014,\"FNIS (Fidelity National Information Services, Inc.)\",In progress,Yes,\n",
    "1115106,Debt collection,\"Other (phone, health club, etc.)\",Communication tactics,Frequent or repeated calls,GA,31721,Web,11/13/2014,11/13/2014,\"Expert Global Solutions, Inc.\",In progress,Yes,\n",
    "```\n",
    "User-defined Counters\n",
    "\n",
    "Now, let’s use Hadoop Counters to identify the number of complaints pertaining to debt collection, mortgage and other categories (all other categories get lumped into this one) in the consumer complaints dataset. Basically produce the distribution of the Product column in this dataset using counters (limited to 3 counters here).\n",
    "\n",
    "Hadoop offers Job Tracker, an UI tool to determine the status and statistics of all jobs. Using the job tracker UI, developers can view the Counters that have been created. Screenshot your  job tracker UI as your job completes and include it here. Make sure that your user defined counters are visible. "
   ]
  },
  {
   "cell_type": "code",
   "execution_count": 2,
   "metadata": {
    "collapsed": false
   },
   "outputs": [
    {
     "name": "stdout",
     "output_type": "stream",
     "text": [
      "mkdir: cannot create directory `ConsumerComplaints': File exists\r\n"
     ]
    }
   ],
   "source": [
    "# Create HDFS directories\n",
    "!mkdir ConsumerComplaints"
   ]
  },
  {
   "cell_type": "code",
   "execution_count": 20,
   "metadata": {
    "collapsed": false
   },
   "outputs": [
    {
     "name": "stdout",
     "output_type": "stream",
     "text": [
      "  % Total    % Received % Xferd  Average Speed   Time    Time     Time  Current\n",
      "                                 Dload  Upload   Total   Spent    Left  Speed\n",
      "  0     0    0     0    0     0      0      0 --:--:-- --:--:-- --:--:--     0\n",
      "100 48.5M  100 48.5M    0     0  4774k      0  0:00:10  0:00:10 --:--:-- 5558k\n"
     ]
    }
   ],
   "source": [
    "# Put the data into HDFS\n",
    "!curl 'https://www.dropbox.com/s/vbalm3yva2rr86m/Consumer_Complaints.csv?dl=0#' -L -o ccd.csv\n",
    "! cp ./ccd.csv ./ConsumerComplaints/"
   ]
  },
  {
   "cell_type": "code",
   "execution_count": 47,
   "metadata": {
    "collapsed": false
   },
   "outputs": [
    {
     "name": "stdout",
     "output_type": "stream",
     "text": [
      "Overwriting complaintCountsMapper.py\n"
     ]
    }
   ],
   "source": [
    "%%writefile complaintCountsMapper.py\n",
    "#!/usr/bin/env python\n",
    "\n",
    "# # START STUDENT CODE HW31MAPPER\n",
    "\n",
    "import sys\n",
    "from collections import defaultdict\n",
    "\n",
    "# Set up counters to monitor/understand the number of times a mapper task is run\n",
    "\n",
    "prods = defaultdict(int)\n",
    "\n",
    "for line in sys.stdin:\n",
    "    if 'debt collection' in line.lower():\n",
    "        prods['debt collection'] += 1\n",
    "        sys.stderr.write(\"reporter:counter:HW3.1 Mapper Debt Collection Counters,Calls,1\\n\")\n",
    "        \n",
    "    elif 'mortgage' in line.lower():\n",
    "        prods['mortgage'] += 1\n",
    "        sys.stderr.write(\"reporter:counter:HW3.1 Mapper Mortgage Counters,Calls,1\\n\")\n",
    "        \n",
    "    else:\n",
    "        prods['other'] += 1\n",
    "        sys.stderr.write(\"reporter:counter:HW3.1 Mapper Other Counters,Calls,1\\n\")\n",
    "        \n",
    "for key in sorted(prods):\n",
    "    print '%s\\t%s' % (key, prods[key])\n",
    "\n",
    "# END STUDENT CODE HW31MAPPER"
   ]
  },
  {
   "cell_type": "markdown",
   "metadata": {},
   "source": [
    "**Not required to create reducer, but for the sake of continuity, I've created one**"
   ]
  },
  {
   "cell_type": "code",
   "execution_count": 40,
   "metadata": {
    "collapsed": false
   },
   "outputs": [
    {
     "name": "stdout",
     "output_type": "stream",
     "text": [
      "Overwriting complaintCountsReducer.py\n"
     ]
    }
   ],
   "source": [
    "%%writefile complaintCountsReducer.py\n",
    "#!/usr/bin/env python\n",
    "\n",
    "# START STUDENT CODE HW31REDUCER\n",
    "\n",
    "import sys\n",
    "# Set up counters to monitor/understand the number of times a reducer task is run\n",
    "sys.stderr.write(\"reporter:counter:HW3.1 Reducer Counters,Calls,1\\n\")\n",
    "\n",
    "d = {}\n",
    "\n",
    "# For each line from the mapper output, split the three attributes \n",
    "# Spam/Ham classification, key term, value count\n",
    "for line in sys.stdin:\n",
    "    key,value = line.split(\"\\t\")\n",
    "    \n",
    "    # check if docClass + key term combination exist in dictionary\n",
    "    # if so, update the term count value\n",
    "    if key in d:\n",
    "        d[key] += int(value)\n",
    "        \n",
    "    # if combination does not exist, add it to the dictionary\n",
    "    else:\n",
    "        d[key] = int(value)\n",
    "        \n",
    "# for each value in the dictionary, print the 3 attributes in a \n",
    "# way that they can later be sorted appropriately\n",
    "for key, value in d.iteritems():\n",
    "    print '%s\\t%s' % (key, value)\n",
    "\n",
    "# END STUDENT CODE HW31REDUCER"
   ]
  },
  {
   "cell_type": "markdown",
   "metadata": {},
   "source": [
    "**Update Security of Mapper and Reducer**"
   ]
  },
  {
   "cell_type": "code",
   "execution_count": 41,
   "metadata": {
    "collapsed": true
   },
   "outputs": [],
   "source": [
    "!chmod a+x complaintCountsMapper.py\n",
    "!chmod a+x complaintCountsReducer.py"
   ]
  },
  {
   "cell_type": "markdown",
   "metadata": {},
   "source": [
    "**Execute Hadoop calls**"
   ]
  },
  {
   "cell_type": "code",
   "execution_count": 46,
   "metadata": {
    "collapsed": false,
    "scrolled": true
   },
   "outputs": [
    {
     "name": "stdout",
     "output_type": "stream",
     "text": [
      "Deleted ccd.csv\n",
      "Deleted cc-output\n",
      "packageJobJar: [] [/usr/lib/hadoop-mapreduce/hadoop-streaming-2.6.0-cdh5.8.0.jar] /tmp/streamjob5158676712758093896.jar tmpDir=null\n",
      "17/01/28 13:33:58 INFO client.RMProxy: Connecting to ResourceManager at /0.0.0.0:8032\n",
      "17/01/28 13:33:58 INFO client.RMProxy: Connecting to ResourceManager at /0.0.0.0:8032\n",
      "17/01/28 13:33:58 INFO mapred.FileInputFormat: Total input paths to process : 1\n",
      "17/01/28 13:33:58 INFO mapreduce.JobSubmitter: number of splits:2\n",
      "17/01/28 13:33:58 INFO mapreduce.JobSubmitter: Submitting tokens for job: job_1484544278544_0363\n",
      "17/01/28 13:33:59 INFO impl.YarnClientImpl: Submitted application application_1484544278544_0363\n",
      "17/01/28 13:33:59 INFO mapreduce.Job: The url to track the job: http://quickstart.cloudera:8088/proxy/application_1484544278544_0363/\n",
      "17/01/28 13:33:59 INFO mapreduce.Job: Running job: job_1484544278544_0363\n",
      "17/01/28 13:34:05 INFO mapreduce.Job: Job job_1484544278544_0363 running in uber mode : false\n",
      "17/01/28 13:34:05 INFO mapreduce.Job:  map 0% reduce 0%\n",
      "17/01/28 13:34:13 INFO mapreduce.Job:  map 50% reduce 0%\n",
      "17/01/28 13:34:14 INFO mapreduce.Job:  map 100% reduce 0%\n",
      "17/01/28 13:34:20 INFO mapreduce.Job:  map 100% reduce 100%\n",
      "17/01/28 13:34:20 INFO mapreduce.Job: Job job_1484544278544_0363 completed successfully\n",
      "17/01/28 13:34:20 INFO mapreduce.Job: Counters: 53\n",
      "\tFile System Counters\n",
      "\t\tFILE: Number of bytes read=115\n",
      "\t\tFILE: Number of bytes written=361504\n",
      "\t\tFILE: Number of read operations=0\n",
      "\t\tFILE: Number of large read operations=0\n",
      "\t\tFILE: Number of write operations=0\n",
      "\t\tHDFS: Number of bytes read=50910792\n",
      "\t\tHDFS: Number of bytes written=51\n",
      "\t\tHDFS: Number of read operations=9\n",
      "\t\tHDFS: Number of large read operations=0\n",
      "\t\tHDFS: Number of write operations=2\n",
      "\tJob Counters \n",
      "\t\tLaunched map tasks=2\n",
      "\t\tLaunched reduce tasks=1\n",
      "\t\tData-local map tasks=2\n",
      "\t\tTotal time spent by all maps in occupied slots (ms)=12131\n",
      "\t\tTotal time spent by all reduces in occupied slots (ms)=3716\n",
      "\t\tTotal time spent by all map tasks (ms)=12131\n",
      "\t\tTotal time spent by all reduce tasks (ms)=3716\n",
      "\t\tTotal vcore-seconds taken by all map tasks=12131\n",
      "\t\tTotal vcore-seconds taken by all reduce tasks=3716\n",
      "\t\tTotal megabyte-seconds taken by all map tasks=12422144\n",
      "\t\tTotal megabyte-seconds taken by all reduce tasks=3805184\n",
      "\tMap-Reduce Framework\n",
      "\t\tMap input records=312913\n",
      "\t\tMap output records=6\n",
      "\t\tMap output bytes=97\n",
      "\t\tMap output materialized bytes=121\n",
      "\t\tInput split bytes=210\n",
      "\t\tCombine input records=6\n",
      "\t\tCombine output records=6\n",
      "\t\tReduce input groups=5\n",
      "\t\tReduce shuffle bytes=121\n",
      "\t\tReduce input records=6\n",
      "\t\tReduce output records=3\n",
      "\t\tSpilled Records=12\n",
      "\t\tShuffled Maps =2\n",
      "\t\tFailed Shuffles=0\n",
      "\t\tMerged Map outputs=2\n",
      "\t\tGC time elapsed (ms)=145\n",
      "\t\tCPU time spent (ms)=5530\n",
      "\t\tPhysical memory (bytes) snapshot=867106816\n",
      "\t\tVirtual memory (bytes) snapshot=4690857984\n",
      "\t\tTotal committed heap usage (bytes)=894959616\n",
      "\tHW3.1 Mapper DC Counters\n",
      "\t\tCalls=44372\n",
      "\tHW3.1 Mapper Mortgage Counters\n",
      "\t\tCalls=125796\n",
      "\tHW3.1 Mapper Other Counters\n",
      "\t\tCalls=142745\n",
      "\tHW3.1 Reducer Counters\n",
      "\t\tCalls=3\n",
      "\tShuffle Errors\n",
      "\t\tBAD_ID=0\n",
      "\t\tCONNECTION=0\n",
      "\t\tIO_ERROR=0\n",
      "\t\tWRONG_LENGTH=0\n",
      "\t\tWRONG_MAP=0\n",
      "\t\tWRONG_REDUCE=0\n",
      "\tFile Input Format Counters \n",
      "\t\tBytes Read=50910582\n",
      "\tFile Output Format Counters \n",
      "\t\tBytes Written=51\n",
      "17/01/28 13:34:20 INFO streaming.StreamJob: Output directory: cc-output\n"
     ]
    }
   ],
   "source": [
    "# Hadoop command\n",
    "# START STUDENT CODE HW31HADOOP\n",
    "\n",
    "!hdfs dfs -rm ccd.csv \n",
    "!hdfs dfs -copyFromLocal ccd.csv\n",
    "!hdfs dfs -rm -r cc-output\n",
    "\n",
    "!hadoop jar /usr/lib/hadoop-0.20-mapreduce/contrib/streaming/hadoop-streaming-2.6.0-mr1-cdh5.8.0.jar \\\n",
    "  -files complaintCountsMapper.py,complaintCountsReducer.py \\\n",
    "  -mapper complaintCountsMapper.py \\\n",
    "  -reducer complaintCountsReducer.py \\\n",
    "  -combiner complaintCountsReducer.py \\\n",
    "  -input ccd.csv \\\n",
    "  -output cc-output  \\\n",
    "  -numReduceTasks 1 \n",
    "\n",
    "# END STUDENT CODE HW31HADOOP"
   ]
  },
  {
   "cell_type": "markdown",
   "metadata": {},
   "source": [
    "**Check output counts**"
   ]
  },
  {
   "cell_type": "code",
   "execution_count": 48,
   "metadata": {
    "collapsed": false
   },
   "outputs": [
    {
     "name": "stdout",
     "output_type": "stream",
     "text": [
      "debt collection\t44372\r\n",
      "other\t142745\r\n",
      "mortgage\t125796\r\n"
     ]
    }
   ],
   "source": [
    "!hdfs dfs -cat cc-output/part-0000* > cc_counts.txt\n",
    "!head cc_counts.txt"
   ]
  },
  {
   "cell_type": "markdown",
   "metadata": {},
   "source": [
    "<a name=\"3.2\"></a>\n",
    "### HW 3.2 Analyze the performance of your Mappers, Combiners and Reducers using Counters\n",
    "\n",
    "For this brief study the Input file will be one record (the next line only):    \n",
    "`foo foo quux labs foo bar quux`\n",
    "\n",
    "\n",
    "__3.2.A__     \n",
    "Perform a word count analysis of this single record dataset using a Mapper and Reducer based WordCount (i.e., no combiners are used here) using user defined Counters to count up how many times the mapper and reducer are called. What is the value of your user defined Mapper Counter, and Reducer Counter after completing this word count job. The answer  should be 1 and 4 respectively. Please explain.\n",
    "\n",
    "__3.2.B__   \n",
    "Please use mulitple mappers and reducers for these jobs (at least 2 mappers and 2 reducers).\n",
    "Perform a word count analysis of the Issue column of the Consumer Complaints  Dataset using a Mapper and Reducer based WordCount (i.e., no combiners used anywhere)  using user defined Counters to count up how many time the mapper and reducer are called. What is the value of your user defined Mapper Counter, and Reducer Counter after completing your word count job. \n",
    "\n",
    "__3.2.C__     \n",
    "Perform a word count analysis of the Issue column of the Consumer Complaints  Dataset using a Mapper, Reducer, and standalone combiner (i.e., not an in-memory combiner) based WordCount using user defined Counters to count up how many time the mapper, combiner, reducer are called. What is the value of your user defined Mapper Counter, and Reducer Counter after completing your word count job. \n",
    "\n",
    "Using a single reducer: \n",
    "- What are the top 50 most frequent terms in your word count analysis?    \n",
    "- Present the top 50 terms and their frequency and their relative frequency. If there are ties please sort the tokens in alphanumeric/string order.    \n",
    "- Present bottom 10 tokens (least frequent items). \n",
    "\n",
    "__NOTE:__ You can use: `WORD_RE = re.compile(r\"[\\w']+\")` to tokenize."
   ]
  },
  {
   "cell_type": "markdown",
   "metadata": {},
   "source": [
    "### 3.2.A SOLUTION"
   ]
  },
  {
   "cell_type": "code",
   "execution_count": 70,
   "metadata": {
    "collapsed": false
   },
   "outputs": [
    {
     "name": "stdout",
     "output_type": "stream",
     "text": [
      "Overwriting mapper3.2.A.py\n"
     ]
    }
   ],
   "source": [
    "%%writefile mapper3.2.A.py\n",
    "#!/usr/bin/env python\n",
    "# START STUDENT CODE HW32AMAPPER\n",
    "\n",
    "import sys\n",
    "from collections import defaultdict\n",
    "\n",
    "# Set up counters to monitor/understand the number of times a mapper task is run\n",
    "sys.stderr.write(\"reporter:counter:HW3.2.A Mapper Counters,Calls,1\\n\")\n",
    "\n",
    "wordCounts = defaultdict(int)\n",
    "\n",
    "for line in sys.stdin:\n",
    "    words = line.split()\n",
    "    for word in words:\n",
    "            print '%s\\t%s' % (word, 1)\n",
    "#         if word in wordCounts:\n",
    "#             wordCounts[word] += 1\n",
    "#         else:\n",
    "#             wordCounts[word] += 1\n",
    "\n",
    "# for key in sorted(wordCounts):\n",
    "#     print '%s\\t%s' % (key, wordCounts[key])\n",
    "\n",
    "# END STUDENT CODE HW32AMAPPER"
   ]
  },
  {
   "cell_type": "code",
   "execution_count": 71,
   "metadata": {
    "collapsed": false
   },
   "outputs": [
    {
     "name": "stdout",
     "output_type": "stream",
     "text": [
      "Overwriting reducer3.2.A.py\n"
     ]
    }
   ],
   "source": [
    "%%writefile reducer3.2.A.py\n",
    "#!/usr/bin/env python\n",
    "# START STUDENT CODE HW32AREDUCER\n",
    "\n",
    "import sys\n",
    "# Set up counters to monitor/understand the number of times a reducer task is run\n",
    "sys.stderr.write(\"reporter:counter:HW3.2.A Reducer Counters,Calls,1\\n\")\n",
    "\n",
    "d = {}\n",
    "\n",
    "# For each line from the mapper output, split the three attributes \n",
    "# Spam/Ham classification, key term, value count\n",
    "for line in sys.stdin:\n",
    "    key,value = line.split(\"\\t\")\n",
    "    \n",
    "    # check if docClass + key term combination exist in dictionary\n",
    "    # if so, update the term count value\n",
    "    if key in d:\n",
    "        d[key] += int(value)\n",
    "        \n",
    "    # if combination does not exist, add it to the dictionary\n",
    "    else:\n",
    "        d[key] = int(value)\n",
    "        \n",
    "# for each value in the dictionary, print the 3 attributes in a \n",
    "# way that they can later be sorted appropriately\n",
    "for key, value in d.iteritems():\n",
    "    print '%s\\t%s' % (key, value)\n",
    "\n",
    "# END STUDENT CODE HW32AREDUCER"
   ]
  },
  {
   "cell_type": "markdown",
   "metadata": {},
   "source": [
    "**Create input file**"
   ]
  },
  {
   "cell_type": "code",
   "execution_count": 61,
   "metadata": {
    "collapsed": true
   },
   "outputs": [],
   "source": [
    "!echo \"foo foo quux labs foo bar quux\" > ./HW3.2.txt"
   ]
  },
  {
   "cell_type": "code",
   "execution_count": 82,
   "metadata": {
    "collapsed": false,
    "scrolled": true
   },
   "outputs": [
    {
     "name": "stdout",
     "output_type": "stream",
     "text": [
      "Deleted HW3.2.txt\n",
      "rm: `HW3.2.A-output': No such file or directory\n",
      "packageJobJar: [] [/usr/lib/hadoop-mapreduce/hadoop-streaming-2.6.0-cdh5.8.0.jar] /tmp/streamjob4205658107599752123.jar tmpDir=null\n",
      "17/01/28 14:36:41 INFO client.RMProxy: Connecting to ResourceManager at /0.0.0.0:8032\n",
      "17/01/28 14:36:41 INFO client.RMProxy: Connecting to ResourceManager at /0.0.0.0:8032\n",
      "17/01/28 14:36:42 INFO mapred.FileInputFormat: Total input paths to process : 1\n",
      "17/01/28 14:36:42 INFO mapreduce.JobSubmitter: number of splits:2\n",
      "17/01/28 14:36:42 INFO mapreduce.JobSubmitter: Submitting tokens for job: job_1484544278544_0371\n",
      "17/01/28 14:36:42 INFO impl.YarnClientImpl: Submitted application application_1484544278544_0371\n",
      "17/01/28 14:36:42 INFO mapreduce.Job: The url to track the job: http://quickstart.cloudera:8088/proxy/application_1484544278544_0371/\n",
      "17/01/28 14:36:42 INFO mapreduce.Job: Running job: job_1484544278544_0371\n",
      "17/01/28 14:36:49 INFO mapreduce.Job: Job job_1484544278544_0371 running in uber mode : false\n",
      "17/01/28 14:36:49 INFO mapreduce.Job:  map 0% reduce 0%\n",
      "17/01/28 14:36:55 INFO mapreduce.Job:  map 50% reduce 0%\n",
      "17/01/28 14:36:56 INFO mapreduce.Job:  map 100% reduce 0%\n",
      "17/01/28 14:37:06 INFO mapreduce.Job:  map 100% reduce 25%\n",
      "17/01/28 14:37:09 INFO mapreduce.Job:  map 100% reduce 50%\n",
      "17/01/28 14:37:10 INFO mapreduce.Job:  map 100% reduce 100%\n",
      "17/01/28 14:37:12 INFO mapreduce.Job: Job job_1484544278544_0371 completed successfully\n",
      "17/01/28 14:37:12 INFO mapreduce.Job: Counters: 52\n",
      "\tFile System Counters\n",
      "\t\tFILE: Number of bytes read=83\n",
      "\t\tFILE: Number of bytes written=720210\n",
      "\t\tFILE: Number of read operations=0\n",
      "\t\tFILE: Number of large read operations=0\n",
      "\t\tFILE: Number of write operations=0\n",
      "\t\tHDFS: Number of bytes read=261\n",
      "\t\tHDFS: Number of bytes written=26\n",
      "\t\tHDFS: Number of read operations=18\n",
      "\t\tHDFS: Number of large read operations=0\n",
      "\t\tHDFS: Number of write operations=8\n",
      "\tJob Counters \n",
      "\t\tKilled reduce tasks=1\n",
      "\t\tLaunched map tasks=2\n",
      "\t\tLaunched reduce tasks=4\n",
      "\t\tData-local map tasks=2\n",
      "\t\tTotal time spent by all maps in occupied slots (ms)=9450\n",
      "\t\tTotal time spent by all reduces in occupied slots (ms)=39195\n",
      "\t\tTotal time spent by all map tasks (ms)=9450\n",
      "\t\tTotal time spent by all reduce tasks (ms)=39195\n",
      "\t\tTotal vcore-seconds taken by all map tasks=9450\n",
      "\t\tTotal vcore-seconds taken by all reduce tasks=39195\n",
      "\t\tTotal megabyte-seconds taken by all map tasks=9676800\n",
      "\t\tTotal megabyte-seconds taken by all reduce tasks=40135680\n",
      "\tMap-Reduce Framework\n",
      "\t\tMap input records=1\n",
      "\t\tMap output records=7\n",
      "\t\tMap output bytes=45\n",
      "\t\tMap output materialized bytes=107\n",
      "\t\tInput split bytes=214\n",
      "\t\tCombine input records=0\n",
      "\t\tCombine output records=0\n",
      "\t\tReduce input groups=4\n",
      "\t\tReduce shuffle bytes=107\n",
      "\t\tReduce input records=7\n",
      "\t\tReduce output records=4\n",
      "\t\tSpilled Records=14\n",
      "\t\tShuffled Maps =8\n",
      "\t\tFailed Shuffles=0\n",
      "\t\tMerged Map outputs=8\n",
      "\t\tGC time elapsed (ms)=561\n",
      "\t\tCPU time spent (ms)=7340\n",
      "\t\tPhysical memory (bytes) snapshot=1339359232\n",
      "\t\tVirtual memory (bytes) snapshot=9398173696\n",
      "\t\tTotal committed heap usage (bytes)=1274019840\n",
      "\tHW3.2.A Mapper Counters\n",
      "\t\tCalls=2\n",
      "\tHW3.2.A Reducer Counters\n",
      "\t\tCalls=4\n",
      "\tShuffle Errors\n",
      "\t\tBAD_ID=0\n",
      "\t\tCONNECTION=0\n",
      "\t\tIO_ERROR=0\n",
      "\t\tWRONG_LENGTH=0\n",
      "\t\tWRONG_MAP=0\n",
      "\t\tWRONG_REDUCE=0\n",
      "\tFile Input Format Counters \n",
      "\t\tBytes Read=47\n",
      "\tFile Output Format Counters \n",
      "\t\tBytes Written=26\n",
      "17/01/28 14:37:12 INFO streaming.StreamJob: Output directory: HW3.2.A-output\n"
     ]
    }
   ],
   "source": [
    "# Hadoop command\n",
    "# START STUDENT CODE HW32AHADOOP\n",
    "\n",
    "#update security on mapper/reducer\n",
    "!chmod a+x mapper3.2.A.py\n",
    "!chmod a+x reducer3.2.A.py\n",
    "\n",
    "!hdfs dfs -rm HW3.2.txt \n",
    "!hdfs dfs -copyFromLocal HW3.2.txt\n",
    "!hdfs dfs -rm -r HW3.2.A-output\n",
    "\n",
    "!hadoop jar /usr/lib/hadoop-0.20-mapreduce/contrib/streaming/hadoop-streaming-2.6.0-mr1-cdh5.8.0.jar \\\n",
    "  -files mapper3.2.A.py,reducer3.2.A.py \\\n",
    "  -mapper mapper3.2.A.py \\\n",
    "  -reducer reducer3.2.A.py \\\n",
    "  -input HW3.2.txt \\\n",
    "  -output HW3.2.A-output \\\n",
    "  -numReduceTasks 4\n",
    "\n",
    "# END STUDENT CODE HW32AHADOOP"
   ]
  },
  {
   "cell_type": "code",
   "execution_count": 107,
   "metadata": {
    "collapsed": false
   },
   "outputs": [
    {
     "data": {
      "image/png": "[encoded data removed]",
      "text/plain": [
       "<IPython.core.display.Image object>"
      ]
     },
     "execution_count": 107,
     "metadata": {},
     "output_type": "execute_result"
    }
   ],
   "source": [
    "# INSERT SCREENSHOT OF JOB TRACKER UI COUNTERS\n",
    "from IPython.display import Image, HTML\n",
    "Image('HW32.png')"
   ]
  },
  {
   "cell_type": "markdown",
   "metadata": {
    "collapsed": true
   },
   "source": [
    "#### 3.2.A EXPLANATION\n",
    "For mappers, I accepted the defaults and used 2. For reducers, I specified for 4 to be used. These numbers will change based on the settings and configuration that is used within the Hadoop Streaming calls."
   ]
  },
  {
   "cell_type": "markdown",
   "metadata": {},
   "source": [
    "### 3.2.B SOLUTION"
   ]
  },
  {
   "cell_type": "markdown",
   "metadata": {},
   "source": [
    "**3.2.B Mapper**"
   ]
  },
  {
   "cell_type": "code",
   "execution_count": 108,
   "metadata": {
    "collapsed": false
   },
   "outputs": [
    {
     "name": "stdout",
     "output_type": "stream",
     "text": [
      "Overwriting mapper3.2.B.py\n"
     ]
    }
   ],
   "source": [
    "%%writefile mapper3.2.B.py\n",
    "#!/usr/bin/env python\n",
    "# START STUDENT CODE HW32BMAPPER\n",
    "\n",
    "import sys\n",
    "import csv\n",
    "from collections import defaultdict\n",
    "import re\n",
    "\n",
    "# Set up counters to monitor/understand the number of times a mapper task is run\n",
    "sys.stderr.write(\"reporter:counter:HW3.2.B Mapper Counters,Calls,1\\n\")\n",
    "\n",
    "issueList = defaultdict(int)\n",
    "\n",
    "ccd = csv.reader(sys.stdin)\n",
    "for row in ccd:\n",
    "    issue = row[3]\n",
    "    if len(issue) > 0 and issue != 'Issue':\n",
    "        words = re.findall(r'[a-z]+', issue.lower())\n",
    "        for word in words:\n",
    "            if word in issueList:\n",
    "                issueList[word] +=1\n",
    "            else:\n",
    "                issueList[word] = 1\n",
    "    \n",
    "for key in sorted(issueList):\n",
    "    print '%s\\t%s' % (key, issueList[key])\n",
    "\n",
    "\n",
    "\n",
    "# END STUDENT CODE HW32BMAPPER"
   ]
  },
  {
   "cell_type": "markdown",
   "metadata": {},
   "source": [
    "**3.2.B Reducer**"
   ]
  },
  {
   "cell_type": "code",
   "execution_count": 109,
   "metadata": {
    "collapsed": false
   },
   "outputs": [
    {
     "name": "stdout",
     "output_type": "stream",
     "text": [
      "Overwriting reducer3.2.B.py\n"
     ]
    }
   ],
   "source": [
    "%%writefile reducer3.2.B.py\n",
    "#!/usr/bin/env python\n",
    "# START STUDENT CODE HW32BREDUCER\n",
    "\n",
    "import sys\n",
    "# Set up counters to monitor/understand the number of times a reducer task is run\n",
    "sys.stderr.write(\"reporter:counter:HW3.2.B Reducer Counters,Calls,1\\n\")\n",
    "\n",
    "d = {}\n",
    "\n",
    "# For each line from the mapper output, split the three attributes \n",
    "# Spam/Ham classification, key term, value count\n",
    "for line in sys.stdin:\n",
    "    key,value = line.split(\"\\t\")\n",
    "    \n",
    "    # check if docClass + key term combination exist in dictionary\n",
    "    # if so, update the term count value\n",
    "    if key in d:\n",
    "        d[key] += int(value)\n",
    "        \n",
    "    # if combination does not exist, add it to the dictionary\n",
    "    else:\n",
    "        d[key] = int(value)\n",
    "        \n",
    "# for each value in the dictionary, print the 3 attributes in a \n",
    "# way that they can later be sorted appropriately\n",
    "for key, value in d.iteritems():\n",
    "    print '%s\\t%s' % (key, value)\n",
    "\n",
    "# END STUDENT CODE HW32BREDUCER"
   ]
  },
  {
   "cell_type": "markdown",
   "metadata": {},
   "source": [
    "**3.2.B Hadoop Calls**"
   ]
  },
  {
   "cell_type": "code",
   "execution_count": 110,
   "metadata": {
    "collapsed": false,
    "scrolled": true
   },
   "outputs": [
    {
     "name": "stdout",
     "output_type": "stream",
     "text": [
      "Deleted ccd.csv\n",
      "Deleted HW3.2.B-output\n",
      "packageJobJar: [] [/usr/lib/hadoop-mapreduce/hadoop-streaming-2.6.0-cdh5.8.0.jar] /tmp/streamjob3908761271563178578.jar tmpDir=null\n",
      "17/01/29 15:30:05 INFO client.RMProxy: Connecting to ResourceManager at /0.0.0.0:8032\n",
      "17/01/29 15:30:06 INFO client.RMProxy: Connecting to ResourceManager at /0.0.0.0:8032\n",
      "17/01/29 15:30:06 INFO mapred.FileInputFormat: Total input paths to process : 1\n",
      "17/01/29 15:30:06 INFO mapreduce.JobSubmitter: number of splits:2\n",
      "17/01/29 15:30:06 INFO mapreduce.JobSubmitter: Submitting tokens for job: job_1484544278544_0417\n",
      "17/01/29 15:30:07 INFO impl.YarnClientImpl: Submitted application application_1484544278544_0417\n",
      "17/01/29 15:30:07 INFO mapreduce.Job: The url to track the job: http://quickstart.cloudera:8088/proxy/application_1484544278544_0417/\n",
      "17/01/29 15:30:07 INFO mapreduce.Job: Running job: job_1484544278544_0417\n",
      "17/01/29 15:30:13 INFO mapreduce.Job: Job job_1484544278544_0417 running in uber mode : false\n",
      "17/01/29 15:30:13 INFO mapreduce.Job:  map 0% reduce 0%\n",
      "17/01/29 15:30:21 INFO mapreduce.Job:  map 100% reduce 0%\n",
      "17/01/29 15:30:29 INFO mapreduce.Job:  map 100% reduce 25%\n",
      "17/01/29 15:30:31 INFO mapreduce.Job:  map 100% reduce 50%\n",
      "17/01/29 15:30:32 INFO mapreduce.Job:  map 100% reduce 75%\n",
      "17/01/29 15:30:33 INFO mapreduce.Job:  map 100% reduce 100%\n",
      "17/01/29 15:30:33 INFO mapreduce.Job: Job job_1484544278544_0417 completed successfully\n",
      "17/01/29 15:30:33 INFO mapreduce.Job: Counters: 52\n",
      "\tFile System Counters\n",
      "\t\tFILE: Number of bytes read=4703\n",
      "\t\tFILE: Number of bytes written=729438\n",
      "\t\tFILE: Number of read operations=0\n",
      "\t\tFILE: Number of large read operations=0\n",
      "\t\tFILE: Number of write operations=0\n",
      "\t\tHDFS: Number of bytes read=50910792\n",
      "\t\tHDFS: Number of bytes written=2188\n",
      "\t\tHDFS: Number of read operations=18\n",
      "\t\tHDFS: Number of large read operations=0\n",
      "\t\tHDFS: Number of write operations=8\n",
      "\tJob Counters \n",
      "\t\tKilled reduce tasks=1\n",
      "\t\tLaunched map tasks=2\n",
      "\t\tLaunched reduce tasks=4\n",
      "\t\tData-local map tasks=2\n",
      "\t\tTotal time spent by all maps in occupied slots (ms)=10662\n",
      "\t\tTotal time spent by all reduces in occupied slots (ms)=26353\n",
      "\t\tTotal time spent by all map tasks (ms)=10662\n",
      "\t\tTotal time spent by all reduce tasks (ms)=26353\n",
      "\t\tTotal vcore-seconds taken by all map tasks=10662\n",
      "\t\tTotal vcore-seconds taken by all reduce tasks=26353\n",
      "\t\tTotal megabyte-seconds taken by all map tasks=10917888\n",
      "\t\tTotal megabyte-seconds taken by all reduce tasks=26985472\n",
      "\tMap-Reduce Framework\n",
      "\t\tMap input records=312913\n",
      "\t\tMap output records=329\n",
      "\t\tMap output bytes=4021\n",
      "\t\tMap output materialized bytes=4727\n",
      "\t\tInput split bytes=210\n",
      "\t\tCombine input records=0\n",
      "\t\tCombine output records=0\n",
      "\t\tReduce input groups=177\n",
      "\t\tReduce shuffle bytes=4727\n",
      "\t\tReduce input records=329\n",
      "\t\tReduce output records=177\n",
      "\t\tSpilled Records=658\n",
      "\t\tShuffled Maps =8\n",
      "\t\tFailed Shuffles=0\n",
      "\t\tMerged Map outputs=8\n",
      "\t\tGC time elapsed (ms)=383\n",
      "\t\tCPU time spent (ms)=6820\n",
      "\t\tPhysical memory (bytes) snapshot=1342898176\n",
      "\t\tVirtual memory (bytes) snapshot=9367805952\n",
      "\t\tTotal committed heap usage (bytes)=1422917632\n",
      "\tHW3.2.B Mapper Counters\n",
      "\t\tCalls=2\n",
      "\tHW3.2.B Reducer Counters\n",
      "\t\tCalls=4\n",
      "\tShuffle Errors\n",
      "\t\tBAD_ID=0\n",
      "\t\tCONNECTION=0\n",
      "\t\tIO_ERROR=0\n",
      "\t\tWRONG_LENGTH=0\n",
      "\t\tWRONG_MAP=0\n",
      "\t\tWRONG_REDUCE=0\n",
      "\tFile Input Format Counters \n",
      "\t\tBytes Read=50910582\n",
      "\tFile Output Format Counters \n",
      "\t\tBytes Written=2188\n",
      "17/01/29 15:30:33 INFO streaming.StreamJob: Output directory: HW3.2.B-output\n"
     ]
    }
   ],
   "source": [
    "# Hadoop command\n",
    "# START STUDENT CODE HW32BHADOOP\n",
    "\n",
    "!chmod a+x mapper3.2.B.py\n",
    "!chmod a+x reducer3.2.B.py\n",
    "\n",
    "!hdfs dfs -rm ccd.csv \n",
    "!hdfs dfs -copyFromLocal ccd.csv\n",
    "!hdfs dfs -rm -r HW3.2.B-output\n",
    "\n",
    "!hadoop jar /usr/lib/hadoop-0.20-mapreduce/contrib/streaming/hadoop-streaming-2.6.0-mr1-cdh5.8.0.jar \\\n",
    "  -files mapper3.2.B.py,reducer3.2.B.py \\\n",
    "  -reducer reducer3.2.B.py \\\n",
    "  -mapper mapper3.2.B.py \\\n",
    "  -input ccd.csv \\\n",
    "  -output HW3.2.B-output \\\n",
    "  -numReduceTasks 4\n",
    "\n",
    "# END STUDENT CODE HW32BHADOOP"
   ]
  },
  {
   "cell_type": "markdown",
   "metadata": {},
   "source": [
    "## 3.2.B Answer"
   ]
  },
  {
   "cell_type": "code",
   "execution_count": 111,
   "metadata": {
    "collapsed": false,
    "scrolled": true
   },
   "outputs": [
    {
     "name": "stdout",
     "output_type": "stream",
     "text": [
      "owed\t17972\r\n",
      "caused\t5663\r\n",
      "sale\t139\r\n",
      "acct\t163\r\n",
      "your\t3844\r\n",
      "payoff\t1155\r\n",
      "incorrect\t29133\r\n",
      "management\t16205\r\n",
      "delinquent\t1061\r\n",
      "for\t929\r\n",
      "transfer\t597\r\n",
      "the\t6248\r\n",
      "to\t8401\r\n",
      "unable\t8178\r\n",
      "issue\t1098\r\n",
      "checks\t75\r\n",
      "available\t274\r\n",
      "applied\t139\r\n",
      "workout\t350\r\n",
      "was\t274\r\n",
      "company\t4858\r\n",
      "processing\t243\r\n",
      "wrong\t169\r\n",
      "disputes\t6938\r\n",
      "issuance\t640\r\n",
      "debt\t27874\r\n",
      "by\t5663\r\n",
      "a\t3503\r\n",
      "on\t29069\r\n",
      "account\t57448\r\n",
      "service\t1518\r\n",
      "i\t925\r\n",
      "of\t13983\r\n",
      "didn\t925\r\n",
      "cash\t240\r\n",
      "repay\t1647\r\n",
      "verification\t7655\r\n",
      "making\t3226\r\n",
      "closing\t19000\r\n",
      "or\t40508\r\n",
      "originator\t8625\r\n",
      "scam\t566\r\n",
      "communication\t8671\r\n",
      "loan\t119630\r\n",
      "improper\t4966\r\n",
      "rate\t3431\r\n",
      "apply\t118\r\n",
      "disclosures\t64\r\n",
      "underwriting\t2774\r\n",
      "out\t1242\r\n",
      "fee\t3198\r\n",
      "monitoring\t1453\r\n",
      "score\t4357\r\n",
      "mortgage\t8625\r\n",
      "illegal\t2964\r\n",
      "decision\t2774\r\n",
      "missing\t64\r\n",
      "credited\t92\r\n",
      "lender\t2165\r\n",
      "investigation\t4858\r\n",
      "bank\t202\r\n",
      "statements\t3621\r\n",
      "dealing\t1944\r\n",
      "modification\t70487\r\n",
      "lease\t6337\r\n",
      "cancelling\t2795\r\n",
      "shopping\t672\r\n",
      "plans\t350\r\n",
      "get\t4357\r\n",
      "funds\t5663\r\n",
      "marketing\t1193\r\n",
      "reporting\t6559\r\n",
      "problems\t9484\r\n",
      "withdrawals\t10555\r\n",
      "servicing\t36767\r\n",
      "report\t34903\r\n",
      "line\t1732\r\n",
      "payment\t92\r\n",
      "card\t4405\r\n",
      "advance\t240\r\n",
      "sending\t3226\r\n",
      "transaction\t1485\r\n",
      "taking\t4206\r\n",
      "atm\t2422\r\n",
      "collect\t17972\r\n",
      "amount\t98\r\n",
      "costs\t4350\r\n",
      "my\t10731\r\n",
      "and\t16448\r\n",
      "disclosure\t7655\r\n",
      "unsolicited\t640\r\n",
      "false\t3621\r\n",
      "foreclosure\t70487\r\n",
      "apr\t3431\r\n",
      "overlimit\t127\r\n",
      "an\t2964\r\n",
      "expect\t807\r\n",
      "fees\t807\r\n",
      "settlement\t4350\r\n",
      "bankruptcy\t222\r\n",
      "arbitration\t168\r\n",
      "use\t1477\r\n",
      "billing\t8158\r\n",
      "repaying\t3844\r\n",
      "threatening\t2964\r\n",
      "deposits\t10555\r\n",
      "relations\t1367\r\n",
      "delay\t243\r\n",
      "being\t5663\r\n",
      "statement\t1220\r\n",
      "you\t3821\r\n",
      "process\t5505\r\n",
      "terms\t350\r\n",
      "s\t4858\r\n",
      "broker\t8625\r\n",
      "escrow\t36767\r\n",
      "protection\t4139\r\n",
      "determination\t1490\r\n",
      "theft\t3276\r\n",
      "representation\t3621\r\n",
      "not\t18477\r\n",
      "servicer\t1944\r\n",
      "received\t216\r\n",
      "tactics\t8671\r\n",
      "charges\t131\r\n",
      "credit\t55251\r\n",
      "convenience\t75\r\n",
      "payments\t39993\r\n",
      "did\t139\r\n",
      "changes\t350\r\n",
      "receive\t139\r\n",
      "promised\t274\r\n",
      "cont\t17972\r\n",
      "money\t3639\r\n",
      "embezzlement\t3276\r\n",
      "attempts\t17972\r\n",
      "rewards\t1002\r\n",
      "decrease\t1149\r\n",
      "are\t3821\r\n",
      "t\t2924\r\n",
      "practices\t1003\r\n",
      "issues\t538\r\n",
      "information\t29069\r\n",
      "privacy\t240\r\n",
      "managing\t5006\r\n",
      "pay\t3821\r\n",
      "sharing\t3489\r\n",
      "when\t4095\r\n",
      "amt\t71\r\n",
      "increase\t1149\r\n",
      "application\t8868\r\n",
      "other\t7886\r\n",
      "low\t5663\r\n",
      "interest\t4238\r\n",
      "debit\t2422\r\n",
      "receiving\t3226\r\n",
      "dispute\t904\r\n",
      "info\t3553\r\n",
      "advertising\t1193\r\n",
      "opening\t16205\r\n",
      "late\t1797\r\n",
      "stop\t131\r\n",
      "collection\t72394\r\n",
      "using\t2422\r\n",
      "with\t1944\r\n",
      "day\t71\r\n",
      "identity\t4729\r\n",
      "customer\t2734\r\n",
      "fraud\t3842\r\n",
      "d\t17972\r\n",
      "getting\t291\r\n",
      "forbearance\t350\r\n",
      "contact\t3710\r\n",
      "can\t1999\r\n",
      "action\t2964\r\n",
      "balance\t597\r\n",
      "charged\t976\r\n"
     ]
    }
   ],
   "source": [
    "# 3.2.B OUTPUT/ANSWER\n",
    "!hdfs dfs -cat HW3.2.B-output/part-0000* > HW3.2.B_counts.txt\n",
    "!cat HW3.2.B_counts.txt"
   ]
  },
  {
   "cell_type": "code",
   "execution_count": 129,
   "metadata": {
    "collapsed": false
   },
   "outputs": [
    {
     "data": {
      "image/png": "[encoded data removed]",
      "text/plain": [
       "<IPython.core.display.Image object>"
      ]
     },
     "execution_count": 129,
     "metadata": {},
     "output_type": "execute_result"
    }
   ],
   "source": [
    "# INSERT SCREENSHOT OF JOB TRACKER UI COUNTERS\n",
    "from IPython.display import Image, HTML\n",
    "Image('HW32B.png')"
   ]
  },
  {
   "cell_type": "markdown",
   "metadata": {},
   "source": [
    "### 3.2.C SOLUTION"
   ]
  },
  {
   "cell_type": "markdown",
   "metadata": {},
   "source": [
    "**3.2.C Mapper**"
   ]
  },
  {
   "cell_type": "code",
   "execution_count": 117,
   "metadata": {
    "collapsed": false
   },
   "outputs": [
    {
     "name": "stdout",
     "output_type": "stream",
     "text": [
      "Overwriting mapper3.2.C.py\n"
     ]
    }
   ],
   "source": [
    "%%writefile mapper3.2.C.py\n",
    "#!/usr/bin/env python\n",
    "# START STUDENT CODE HW32CMAPPER\n",
    "\n",
    "import sys\n",
    "import csv\n",
    "import re\n",
    "\n",
    "# Set up counters to monitor/understand the number of times a mapper task is run\n",
    "sys.stderr.write(\"reporter:counter:HW3.2.B Mapper Counters,Calls,1\\n\")\n",
    "\n",
    "ccd = csv.reader(sys.stdin)\n",
    "for row in ccd:\n",
    "    issue = row[3]\n",
    "    if len(issue) > 0 and issue != 'Issue':\n",
    "        words = re.findall(r'[a-z]+', issue.lower())\n",
    "        for word in words:\n",
    "            print '%s\\t%s' % (word, 1)\n",
    "\n",
    "# END STUDENT CODE HW32CMAPPER"
   ]
  },
  {
   "cell_type": "markdown",
   "metadata": {},
   "source": [
    "**3.2.C Combiner**"
   ]
  },
  {
   "cell_type": "code",
   "execution_count": 122,
   "metadata": {
    "collapsed": false
   },
   "outputs": [
    {
     "name": "stdout",
     "output_type": "stream",
     "text": [
      "Overwriting combiner3.2.C.py\n"
     ]
    }
   ],
   "source": [
    "%%writefile combiner3.2.C.py\n",
    "#!/usr/bin/env python\n",
    "# START STUDENT CODE HW32CCOMBINER\n",
    "import sys\n",
    "from collections import defaultdict\n",
    "\n",
    "# Set up counters to monitor/understand the number of times a reducer task is run\n",
    "sys.stderr.write(\"reporter:counter:HW3.2.C Combiner Counters,Calls,1\\n\")\n",
    "\n",
    "issueDict = defaultdict(int)\n",
    "\n",
    "for line in sys.stdin:\n",
    "    word,count = line.split(\"\\t\")\n",
    "    if word in issueDict:\n",
    "        issueDict[word] += int(count)\n",
    "    else:\n",
    "        issueDict[word] = int(count)        \n",
    "\n",
    "for key in sorted(issueDict):\n",
    "    print '%s\\t%s' % (key, issueDict[key])\n",
    "\n",
    "# END STUDENT CODE HW32CCOMBINER"
   ]
  },
  {
   "cell_type": "markdown",
   "metadata": {},
   "source": [
    "**3.2.C Reducer**"
   ]
  },
  {
   "cell_type": "code",
   "execution_count": 123,
   "metadata": {
    "collapsed": false
   },
   "outputs": [
    {
     "name": "stdout",
     "output_type": "stream",
     "text": [
      "Overwriting reducer3.2.C.py\n"
     ]
    }
   ],
   "source": [
    "%%writefile reducer3.2.C.py\n",
    "#!/usr/bin/env python\n",
    "# START STUDENT CODE HW32CREDUCER\n",
    "\n",
    "import sys\n",
    "# Set up counters to monitor/understand the number of times a reducer task is run\n",
    "sys.stderr.write(\"reporter:counter:HW3.2.C Reducer Counters,Calls,1\\n\")\n",
    "\n",
    "d = {}\n",
    "\n",
    "# For each line from the mapper output, split the three attributes \n",
    "# Spam/Ham classification, key term, value count\n",
    "for line in sys.stdin:\n",
    "    key,value = line.split(\"\\t\",1)\n",
    "    \n",
    "    # check if docClass + key term combination exist in dictionary\n",
    "    # if so, update the term count value\n",
    "    if key in d:\n",
    "        d[key] += int(value)\n",
    "        \n",
    "    # if combination does not exist, add it to the dictionary\n",
    "    else:\n",
    "        d[key] = int(value)\n",
    "        \n",
    "# for each value in the dictionary, print the 3 attributes in a \n",
    "# way that they can later be sorted appropriately\n",
    "for key, value in d.iteritems():\n",
    "    print '%s\\t%s' % (key, value)\n",
    "\n",
    "# END STUDENT CODE HW32CREDUCER"
   ]
  },
  {
   "cell_type": "markdown",
   "metadata": {},
   "source": [
    "**3.2.C Hadoop Calls**"
   ]
  },
  {
   "cell_type": "code",
   "execution_count": 124,
   "metadata": {
    "collapsed": false,
    "scrolled": true
   },
   "outputs": [
    {
     "name": "stdout",
     "output_type": "stream",
     "text": [
      "Deleted ccd.csv\n",
      "Deleted HW3.2.C-output\n",
      "packageJobJar: [] [/usr/lib/hadoop-mapreduce/hadoop-streaming-2.6.0-cdh5.8.0.jar] /tmp/streamjob6631041556751413680.jar tmpDir=null\n",
      "17/01/29 15:54:13 INFO client.RMProxy: Connecting to ResourceManager at /0.0.0.0:8032\n",
      "17/01/29 15:54:13 INFO client.RMProxy: Connecting to ResourceManager at /0.0.0.0:8032\n",
      "17/01/29 15:54:14 INFO mapred.FileInputFormat: Total input paths to process : 1\n",
      "17/01/29 15:54:14 INFO mapreduce.JobSubmitter: number of splits:2\n",
      "17/01/29 15:54:14 INFO mapreduce.JobSubmitter: Submitting tokens for job: job_1484544278544_0420\n",
      "17/01/29 15:54:14 INFO impl.YarnClientImpl: Submitted application application_1484544278544_0420\n",
      "17/01/29 15:54:14 INFO mapreduce.Job: The url to track the job: http://quickstart.cloudera:8088/proxy/application_1484544278544_0420/\n",
      "17/01/29 15:54:14 INFO mapreduce.Job: Running job: job_1484544278544_0420\n",
      "17/01/29 15:54:21 INFO mapreduce.Job: Job job_1484544278544_0420 running in uber mode : false\n",
      "17/01/29 15:54:21 INFO mapreduce.Job:  map 0% reduce 0%\n",
      "17/01/29 15:54:31 INFO mapreduce.Job:  map 100% reduce 0%\n",
      "17/01/29 15:54:37 INFO mapreduce.Job:  map 100% reduce 100%\n",
      "17/01/29 15:54:37 INFO mapreduce.Job: Job job_1484544278544_0420 completed successfully\n",
      "17/01/29 15:54:38 INFO mapreduce.Job: Counters: 53\n",
      "\tFile System Counters\n",
      "\t\tFILE: Number of bytes read=4685\n",
      "\t\tFILE: Number of bytes written=371385\n",
      "\t\tFILE: Number of read operations=0\n",
      "\t\tFILE: Number of large read operations=0\n",
      "\t\tFILE: Number of write operations=0\n",
      "\t\tHDFS: Number of bytes read=50910792\n",
      "\t\tHDFS: Number of bytes written=2188\n",
      "\t\tHDFS: Number of read operations=9\n",
      "\t\tHDFS: Number of large read operations=0\n",
      "\t\tHDFS: Number of write operations=2\n",
      "\tJob Counters \n",
      "\t\tKilled map tasks=1\n",
      "\t\tLaunched map tasks=2\n",
      "\t\tLaunched reduce tasks=1\n",
      "\t\tData-local map tasks=2\n",
      "\t\tTotal time spent by all maps in occupied slots (ms)=15954\n",
      "\t\tTotal time spent by all reduces in occupied slots (ms)=3681\n",
      "\t\tTotal time spent by all map tasks (ms)=15954\n",
      "\t\tTotal time spent by all reduce tasks (ms)=3681\n",
      "\t\tTotal vcore-seconds taken by all map tasks=15954\n",
      "\t\tTotal vcore-seconds taken by all reduce tasks=3681\n",
      "\t\tTotal megabyte-seconds taken by all map tasks=16336896\n",
      "\t\tTotal megabyte-seconds taken by all reduce tasks=3769344\n",
      "\tMap-Reduce Framework\n",
      "\t\tMap input records=312913\n",
      "\t\tMap output records=1374062\n",
      "\t\tMap output bytes=13476215\n",
      "\t\tMap output materialized bytes=4691\n",
      "\t\tInput split bytes=210\n",
      "\t\tCombine input records=1374062\n",
      "\t\tCombine output records=329\n",
      "\t\tReduce input groups=177\n",
      "\t\tReduce shuffle bytes=4691\n",
      "\t\tReduce input records=329\n",
      "\t\tReduce output records=177\n",
      "\t\tSpilled Records=658\n",
      "\t\tShuffled Maps =2\n",
      "\t\tFailed Shuffles=0\n",
      "\t\tMerged Map outputs=2\n",
      "\t\tGC time elapsed (ms)=152\n",
      "\t\tCPU time spent (ms)=6400\n",
      "\t\tPhysical memory (bytes) snapshot=739491840\n",
      "\t\tVirtual memory (bytes) snapshot=4696043520\n",
      "\t\tTotal committed heap usage (bytes)=818937856\n",
      "\tHW3.2.B Mapper Counters\n",
      "\t\tCalls=2\n",
      "\tHW3.2.C Combiner Counters\n",
      "\t\tCalls=2\n",
      "\tHW3.2.C Reducer Counters\n",
      "\t\tCalls=1\n",
      "\tShuffle Errors\n",
      "\t\tBAD_ID=0\n",
      "\t\tCONNECTION=0\n",
      "\t\tIO_ERROR=0\n",
      "\t\tWRONG_LENGTH=0\n",
      "\t\tWRONG_MAP=0\n",
      "\t\tWRONG_REDUCE=0\n",
      "\tFile Input Format Counters \n",
      "\t\tBytes Read=50910582\n",
      "\tFile Output Format Counters \n",
      "\t\tBytes Written=2188\n",
      "17/01/29 15:54:38 INFO streaming.StreamJob: Output directory: HW3.2.C-output\n"
     ]
    }
   ],
   "source": [
    "# Hadoop command\n",
    "# START STUDENT CODE HW32CHADOOP\n",
    "\n",
    "!chmod a+x mapper3.2.C.py\n",
    "!chmod a+x combiner3.2.C.py\n",
    "!chmod a+x reducer3.2.C.py\n",
    "\n",
    "!hdfs dfs -rm ccd.csv \n",
    "!hdfs dfs -copyFromLocal ccd.csv\n",
    "!hdfs dfs -rm -r HW3.2.C-output\n",
    "\n",
    "!hadoop jar /usr/lib/hadoop-0.20-mapreduce/contrib/streaming/hadoop-streaming-2.6.0-mr1-cdh5.8.0.jar \\\n",
    "  -files mapper3.2.C.py,combiner3.2.C.py,reducer3.2.C.py \\\n",
    "  -reducer reducer3.2.C.py \\\n",
    "  -combiner combiner3.2.C.py \\\n",
    "  -mapper mapper3.2.C.py \\\n",
    "  -input ccd.csv \\\n",
    "  -output HW3.2.C-output \\\n",
    "  -numReduceTasks 1\n",
    "\n",
    "\n",
    "# END STUDENT CODE HW32CHADOOP"
   ]
  },
  {
   "cell_type": "markdown",
   "metadata": {},
   "source": [
    "## 3.2.C Answer"
   ]
  },
  {
   "cell_type": "code",
   "execution_count": 125,
   "metadata": {
    "collapsed": false,
    "scrolled": true
   },
   "outputs": [
    {
     "name": "stdout",
     "output_type": "stream",
     "text": [
      "unsolicited\t640\r\n",
      "foreclosure\t70487\r\n",
      "being\t5663\r\n",
      "caused\t5663\r\n",
      "scam\t566\r\n",
      "embezzlement\t3276\r\n",
      "report\t34903\r\n",
      "attempts\t17972\r\n",
      "settlement\t4350\r\n",
      "underwriting\t2774\r\n",
      "issues\t538\r\n",
      "payoff\t1155\r\n",
      "delinquent\t1061\r\n",
      "credited\t92\r\n",
      "deposits\t10555\r\n",
      "amt\t71\r\n",
      "late\t1797\r\n",
      "to\t8401\r\n",
      "other\t7886\r\n",
      "money\t3639\r\n",
      "overlimit\t127\r\n",
      "dispute\t904\r\n",
      "originator\t8625\r\n",
      "applied\t139\r\n",
      "get\t4357\r\n",
      "workout\t350\r\n",
      "stop\t131\r\n",
      "servicing\t36767\r\n",
      "theft\t3276\r\n",
      "not\t18477\r\n",
      "using\t2422\r\n",
      "false\t3621\r\n",
      "day\t71\r\n",
      "bank\t202\r\n",
      "d\t17972\r\n",
      "did\t139\r\n",
      "didn\t925\r\n",
      "collect\t17972\r\n",
      "convenience\t75\r\n",
      "payments\t39993\r\n",
      "verification\t7655\r\n",
      "available\t274\r\n",
      "unable\t8178\r\n",
      "dealing\t1944\r\n",
      "rate\t3431\r\n",
      "are\t3821\r\n",
      "apply\t118\r\n",
      "out\t1242\r\n",
      "for\t929\r\n",
      "forbearance\t350\r\n",
      "managing\t5006\r\n",
      "decision\t2774\r\n",
      "opening\t16205\r\n",
      "practices\t1003\r\n",
      "increase\t1149\r\n",
      "investigation\t4858\r\n",
      "debit\t2422\r\n",
      "receiving\t3226\r\n",
      "issue\t1098\r\n",
      "checks\t75\r\n",
      "t\t2924\r\n",
      "cancelling\t2795\r\n",
      "terms\t350\r\n",
      "missing\t64\r\n",
      "marketing\t1193\r\n",
      "processing\t243\r\n",
      "broker\t8625\r\n",
      "withdrawals\t10555\r\n",
      "disputes\t6938\r\n",
      "debt\t27874\r\n",
      "by\t5663\r\n",
      "card\t4405\r\n",
      "advance\t240\r\n",
      "service\t1518\r\n",
      "getting\t291\r\n",
      "receive\t139\r\n",
      "of\t13983\r\n",
      "taking\t4206\r\n",
      "atm\t2422\r\n",
      "credit\t55251\r\n",
      "amount\t98\r\n",
      "protection\t4139\r\n",
      "advertising\t1193\r\n",
      "transfer\t597\r\n",
      "action\t2964\r\n",
      "changes\t350\r\n",
      "or\t40508\r\n",
      "disclosure\t7655\r\n",
      "statements\t3621\r\n",
      "apr\t3431\r\n",
      "communication\t8671\r\n",
      "loan\t119630\r\n",
      "improper\t4966\r\n",
      "decrease\t1149\r\n",
      "fees\t807\r\n",
      "acct\t163\r\n",
      "your\t3844\r\n",
      "bankruptcy\t222\r\n",
      "arbitration\t168\r\n",
      "lender\t2165\r\n",
      "use\t1477\r\n",
      "fee\t3198\r\n",
      "score\t4357\r\n",
      "billing\t8158\r\n",
      "privacy\t240\r\n",
      "illegal\t2964\r\n",
      "threatening\t2964\r\n",
      "relations\t1367\r\n",
      "low\t5663\r\n",
      "interest\t4238\r\n",
      "was\t274\r\n",
      "lease\t6337\r\n",
      "rewards\t1002\r\n",
      "shopping\t672\r\n",
      "statement\t1220\r\n",
      "on\t29069\r\n",
      "funds\t5663\r\n",
      "company\t4858\r\n",
      "escrow\t36767\r\n",
      "determination\t1490\r\n",
      "line\t1732\r\n",
      "with\t1944\r\n",
      "customer\t2734\r\n",
      "account\t57448\r\n",
      "fraud\t3842\r\n",
      "tactics\t8671\r\n",
      "cash\t240\r\n",
      "i\t925\r\n",
      "info\t3553\r\n",
      "can\t1999\r\n",
      "making\t3226\r\n",
      "closing\t19000\r\n",
      "balance\t597\r\n",
      "my\t10731\r\n",
      "expect\t807\r\n",
      "and\t16448\r\n",
      "owed\t17972\r\n",
      "cont\t17972\r\n",
      "process\t5505\r\n",
      "received\t216\r\n",
      "an\t2964\r\n",
      "sharing\t3489\r\n",
      "promised\t274\r\n",
      "disclosures\t64\r\n",
      "incorrect\t29133\r\n",
      "information\t29069\r\n",
      "monitoring\t1453\r\n",
      "repaying\t3844\r\n",
      "pay\t3821\r\n",
      "sending\t3226\r\n",
      "when\t4095\r\n",
      "s\t4858\r\n",
      "delay\t243\r\n",
      "application\t8868\r\n",
      "contact\t3710\r\n",
      "modification\t70487\r\n",
      "you\t3821\r\n",
      "plans\t350\r\n",
      "reporting\t6559\r\n",
      "problems\t9484\r\n",
      "collection\t72394\r\n",
      "wrong\t169\r\n",
      "issuance\t640\r\n",
      "representation\t3621\r\n",
      "servicer\t1944\r\n",
      "payment\t92\r\n",
      "identity\t4729\r\n",
      "a\t3503\r\n",
      "transaction\t1485\r\n",
      "mortgage\t8625\r\n",
      "charges\t131\r\n",
      "sale\t139\r\n",
      "repay\t1647\r\n",
      "costs\t4350\r\n",
      "management\t16205\r\n",
      "the\t6248\r\n",
      "charged\t976\r\n"
     ]
    }
   ],
   "source": [
    "# 3.2.C OUTPUT/ANSWER\n",
    "!hdfs dfs -cat HW3.2.C-output/part-0000* > HW3.2.C_counts.txt\n",
    "!cat HW3.2.C_counts.txt"
   ]
  },
  {
   "cell_type": "code",
   "execution_count": 128,
   "metadata": {
    "collapsed": false
   },
   "outputs": [
    {
     "data": {
      "image/png": "[encoded data removed]",
      "text/plain": [
       "<IPython.core.display.Image object>"
      ]
     },
     "execution_count": 128,
     "metadata": {},
     "output_type": "execute_result"
    }
   ],
   "source": [
    "# INSERT SCREENSHOT OF JOB TRACKER UI COUNTERS\n",
    "from IPython.display import Image, HTML\n",
    "Image('HW32C.png')"
   ]
  },
  {
   "cell_type": "markdown",
   "metadata": {},
   "source": [
    "<a name=\"3.2.1\"></a>\n",
    "### 3.2.1  \n",
    "Using **2 reducers**: What are the top **50 most frequent terms** in your word count analysis? \n",
    "\n",
    "Present the top 50 terms and their frequency and their relative frequency. Present the top 50 terms and their frequency and their relative frequency. If there are ties please sort the tokens in alphanumeric/string order. Present bottom 10 tokens (least frequent items). Please **use a combiner.**"
   ]
  },
  {
   "cell_type": "markdown",
   "metadata": {},
   "source": [
    "#### START STUDENT CODE HW321 (INSERT CELLS BELOW AS NEEDED)"
   ]
  },
  {
   "cell_type": "markdown",
   "metadata": {},
   "source": [
    "**3.2.C Frequency Mapper**"
   ]
  },
  {
   "cell_type": "code",
   "execution_count": 152,
   "metadata": {
    "collapsed": false
   },
   "outputs": [
    {
     "name": "stdout",
     "output_type": "stream",
     "text": [
      "Overwriting frequencies_mapper3.2.C.py\n"
     ]
    }
   ],
   "source": [
    "%%writefile frequencies_mapper3.2.C.py\n",
    "#!/usr/bin/env python\n",
    "# START STUDENT CODE HW32CFREQMAPPER\n",
    "\n",
    "import sys, csv, re\n",
    "\n",
    "# Set up counters to monitor/understand the number of times a mapper task is run\n",
    "sys.stderr.write(\"reporter:counter:HW3.2.C Mapper Counters,Calls,1\\n\")\n",
    "\n",
    "ccd = csv.reader(sys.stdin)\n",
    "for row in ccd:\n",
    "    issue = row[3]\n",
    "    if len(issue) > 0 and issue != 'Issue':\n",
    "        words = re.findall(r'[a-z]+', issue.lower())\n",
    "        for word in words:\n",
    "            print '%s\\t%s\\t%s' % (word, 1,10)\n",
    "\n",
    "# END STUDENT CODE HW32CFREQMAPPER"
   ]
  },
  {
   "cell_type": "markdown",
   "metadata": {},
   "source": [
    "**3.2.C Frequency Reducer**"
   ]
  },
  {
   "cell_type": "code",
   "execution_count": 165,
   "metadata": {
    "collapsed": false
   },
   "outputs": [
    {
     "name": "stdout",
     "output_type": "stream",
     "text": [
      "Overwriting frequencies_reducer3.2.C.py\n"
     ]
    }
   ],
   "source": [
    "%%writefile frequencies_reducer3.2.C.py\n",
    "#!/usr/bin/env python\n",
    "# START STUDENT CODE HW32CFREQREDUCER\n",
    "\n",
    "import sys\n",
    "# Set up counters to monitor/understand the number of times a reducer task is run\n",
    "sys.stderr.write(\"reporter:counter:HW3.2.C Reducer Counters,Calls,1\\n\")\n",
    "\n",
    "d = {}\n",
    "total = 0\n",
    "# For each line from the mapper output, split the three attributes \n",
    "# Spam/Ham classification, key term, value count\n",
    "for line in sys.stdin:\n",
    "    key,value,x = line.split(\"\\t\",2)\n",
    "    \n",
    "    # check if docClass + key term combination exist in dictionary\n",
    "    # if so, update the term count value\n",
    "    if key in d:\n",
    "        d[key] += int(value)\n",
    "        \n",
    "    # if combination does not exist, add it to the dictionary\n",
    "    else:\n",
    "        d[key] = int(value)\n",
    "\n",
    "for key, value in d.iteritems():\n",
    "    total += int(value)\n",
    "        \n",
    "# for each value in the dictionary, print the 3 attributes in a \n",
    "# way that they can later be sorted appropriately\n",
    "for key, value in d.iteritems():\n",
    "    freq = 0\n",
    "    freq = round((float(value) / float(total)),4)\n",
    "    print '%s\\t%s\\t%s' % (key, value, freq)\n",
    "\n",
    "# END STUDENT CODE HW32CFREQREDUCER"
   ]
  },
  {
   "cell_type": "markdown",
   "metadata": {},
   "source": [
    "**3.2.C Hadoop Calls**"
   ]
  },
  {
   "cell_type": "code",
   "execution_count": 266,
   "metadata": {
    "collapsed": false,
    "scrolled": true
   },
   "outputs": [
    {
     "name": "stdout",
     "output_type": "stream",
     "text": [
      "Deleted ccd.csv\n",
      "Deleted HW3.2.C.freq-output\n",
      "packageJobJar: [] [/usr/lib/hadoop-mapreduce/hadoop-streaming-2.6.0-cdh5.8.0.jar] /tmp/streamjob4385493534662397680.jar tmpDir=null\n",
      "17/01/30 21:21:52 INFO client.RMProxy: Connecting to ResourceManager at /0.0.0.0:8032\n",
      "17/01/30 21:21:52 INFO client.RMProxy: Connecting to ResourceManager at /0.0.0.0:8032\n",
      "17/01/30 21:21:53 INFO mapred.FileInputFormat: Total input paths to process : 1\n",
      "17/01/30 21:21:53 INFO mapreduce.JobSubmitter: number of splits:2\n",
      "17/01/30 21:21:53 INFO mapreduce.JobSubmitter: Submitting tokens for job: job_1484544278544_0457\n",
      "17/01/30 21:21:53 INFO impl.YarnClientImpl: Submitted application application_1484544278544_0457\n",
      "17/01/30 21:21:53 INFO mapreduce.Job: The url to track the job: http://quickstart.cloudera:8088/proxy/application_1484544278544_0457/\n",
      "17/01/30 21:21:53 INFO mapreduce.Job: Running job: job_1484544278544_0457\n",
      "17/01/30 21:22:00 INFO mapreduce.Job: Job job_1484544278544_0457 running in uber mode : false\n",
      "17/01/30 21:22:00 INFO mapreduce.Job:  map 0% reduce 0%\n",
      "17/01/30 21:22:10 INFO mapreduce.Job:  map 50% reduce 0%\n",
      "17/01/30 21:22:11 INFO mapreduce.Job:  map 100% reduce 0%\n",
      "17/01/30 21:22:17 INFO mapreduce.Job:  map 100% reduce 100%\n",
      "17/01/30 21:22:17 INFO mapreduce.Job: Job job_1484544278544_0457 completed successfully\n",
      "17/01/30 21:22:17 INFO mapreduce.Job: Counters: 52\n",
      "\tFile System Counters\n",
      "\t\tFILE: Number of bytes read=6964\n",
      "\t\tFILE: Number of bytes written=495774\n",
      "\t\tFILE: Number of read operations=0\n",
      "\t\tFILE: Number of large read operations=0\n",
      "\t\tFILE: Number of write operations=0\n",
      "\t\tHDFS: Number of bytes read=50910792\n",
      "\t\tHDFS: Number of bytes written=3416\n",
      "\t\tHDFS: Number of read operations=12\n",
      "\t\tHDFS: Number of large read operations=0\n",
      "\t\tHDFS: Number of write operations=4\n",
      "\tJob Counters \n",
      "\t\tKilled map tasks=1\n",
      "\t\tLaunched map tasks=2\n",
      "\t\tLaunched reduce tasks=2\n",
      "\t\tData-local map tasks=2\n",
      "\t\tTotal time spent by all maps in occupied slots (ms)=15313\n",
      "\t\tTotal time spent by all reduces in occupied slots (ms)=9259\n",
      "\t\tTotal time spent by all map tasks (ms)=15313\n",
      "\t\tTotal time spent by all reduce tasks (ms)=9259\n",
      "\t\tTotal vcore-seconds taken by all map tasks=15313\n",
      "\t\tTotal vcore-seconds taken by all reduce tasks=9259\n",
      "\t\tTotal megabyte-seconds taken by all map tasks=15680512\n",
      "\t\tTotal megabyte-seconds taken by all reduce tasks=9481216\n",
      "\tMap-Reduce Framework\n",
      "\t\tMap input records=312913\n",
      "\t\tMap output records=1374062\n",
      "\t\tMap output bytes=17598401\n",
      "\t\tMap output materialized bytes=6976\n",
      "\t\tInput split bytes=210\n",
      "\t\tCombine input records=1374062\n",
      "\t\tCombine output records=329\n",
      "\t\tReduce input groups=327\n",
      "\t\tReduce shuffle bytes=6976\n",
      "\t\tReduce input records=329\n",
      "\t\tReduce output records=177\n",
      "\t\tSpilled Records=658\n",
      "\t\tShuffled Maps =4\n",
      "\t\tFailed Shuffles=0\n",
      "\t\tMerged Map outputs=4\n",
      "\t\tGC time elapsed (ms)=190\n",
      "\t\tCPU time spent (ms)=7470\n",
      "\t\tPhysical memory (bytes) snapshot=956309504\n",
      "\t\tVirtual memory (bytes) snapshot=6251040768\n",
      "\t\tTotal committed heap usage (bytes)=919601152\n",
      "\tHW3.2.C Mapper Counters\n",
      "\t\tCalls=2\n",
      "\tHW3.2.C Reducer Counters\n",
      "\t\tCalls=6\n",
      "\tShuffle Errors\n",
      "\t\tBAD_ID=0\n",
      "\t\tCONNECTION=0\n",
      "\t\tIO_ERROR=0\n",
      "\t\tWRONG_LENGTH=0\n",
      "\t\tWRONG_MAP=0\n",
      "\t\tWRONG_REDUCE=0\n",
      "\tFile Input Format Counters \n",
      "\t\tBytes Read=50910582\n",
      "\tFile Output Format Counters \n",
      "\t\tBytes Written=3416\n",
      "17/01/30 21:22:17 INFO streaming.StreamJob: Output directory: HW3.2.C.freq-output\n"
     ]
    }
   ],
   "source": [
    "# Hadoop command\n",
    "# START STUDENT CODE HW32CFREQHADOOP\n",
    "\n",
    "!chmod a+x frequencies_mapper3.2.C.py\n",
    "!chmod a+x frequencies_reducer3.2.C.py\n",
    "\n",
    "!hdfs dfs -rm ccd.csv \n",
    "!hdfs dfs -copyFromLocal ccd.csv\n",
    "!hdfs dfs -rm -r HW3.2.C.freq-output\n",
    "\n",
    "!hadoop jar /usr/lib/hadoop-0.20-mapreduce/contrib/streaming/hadoop-streaming-2.6.0-mr1-cdh5.8.0.jar \\\n",
    "  -files frequencies_mapper3.2.C.py,frequencies_reducer3.2.C.py \\\n",
    "  -reducer frequencies_reducer3.2.C.py \\\n",
    "  -combiner frequencies_reducer3.2.C.py \\\n",
    "  -mapper frequencies_mapper3.2.C.py \\\n",
    "  -input ccd.csv \\\n",
    "  -output HW3.2.C.freq-output \\\n",
    "  -numReduceTasks 2\n",
    "\n",
    "# END STUDENT CODE HW32CFREQHADOOP"
   ]
  },
  {
   "cell_type": "markdown",
   "metadata": {},
   "source": [
    "## 3.2.C Answer"
   ]
  },
  {
   "cell_type": "markdown",
   "metadata": {},
   "source": [
    "**50 Most Frequent Terms**"
   ]
  },
  {
   "cell_type": "code",
   "execution_count": 267,
   "metadata": {
    "collapsed": false,
    "scrolled": true
   },
   "outputs": [
    {
     "name": "stdout",
     "output_type": "stream",
     "text": [
      "loan\t119630\t0.1707\r\n",
      "collection\t72394\t0.1033\r\n",
      "foreclosure\t70487\t0.1047\r\n",
      "modification\t70487\t0.1006\r\n",
      "account\t57448\t0.0853\r\n",
      "credit\t55251\t0.0821\r\n",
      "or\t40508\t0.0602\r\n",
      "payments\t39993\t0.0594\r\n",
      "escrow\t36767\t0.0546\r\n",
      "servicing\t36767\t0.0525\r\n",
      "report\t34903\t0.0498\r\n",
      "incorrect\t29133\t0.0433\r\n",
      "information\t29069\t0.0415\r\n",
      "on\t29069\t0.0432\r\n",
      "debt\t27874\t0.0414\r\n",
      "closing\t19000\t0.0282\r\n",
      "not\t18477\t0.0274\r\n",
      "attempts\t17972\t0.0256\r\n",
      "collect\t17972\t0.0256\r\n",
      "cont\t17972\t0.0256\r\n",
      "d\t17972\t0.0256\r\n",
      "owed\t17972\t0.0267\r\n",
      "and\t16448\t0.0244\r\n",
      "management\t16205\t0.0241\r\n",
      "opening\t16205\t0.0231\r\n",
      "of\t13983\t0.0208\r\n",
      "my\t10731\t0.0153\r\n",
      "deposits\t10555\t0.0157\r\n",
      "withdrawals\t10555\t0.0151\r\n",
      "problems\t9484\t0.0135\r\n",
      "application\t8868\t0.0127\r\n",
      "communication\t8671\t0.0124\r\n",
      "tactics\t8671\t0.0129\r\n",
      "broker\t8625\t0.0128\r\n",
      "mortgage\t8625\t0.0123\r\n",
      "originator\t8625\t0.0123\r\n",
      "to\t8401\t0.0125\r\n",
      "unable\t8178\t0.0121\r\n",
      "billing\t8158\t0.0121\r\n",
      "other\t7886\t0.0113\r\n",
      "disclosure\t7655\t0.0114\r\n",
      "verification\t7655\t0.0114\r\n",
      "disputes\t6938\t0.0103\r\n",
      "reporting\t6559\t0.0094\r\n",
      "lease\t6337\t0.009\r\n",
      "the\t6248\t0.0093\r\n",
      "being\t5663\t0.0084\r\n",
      "by\t5663\t0.0084\r\n",
      "caused\t5663\t0.0084\r\n",
      "funds\t5663\t0.0081\r\n"
     ]
    }
   ],
   "source": [
    "# 3.2.C OUTPUT/ANSWER\n",
    "!hdfs dfs -cat HW3.2.C.freq-output/part-0000* > HW3.2.C.freq_counts.txt\n",
    "!cat HW3.2.C.freq_counts.txt | sort -k2,2nr | head -n50"
   ]
  },
  {
   "cell_type": "markdown",
   "metadata": {},
   "source": [
    "**10 Least Frequent Terms**"
   ]
  },
  {
   "cell_type": "code",
   "execution_count": 173,
   "metadata": {
    "collapsed": false
   },
   "outputs": [
    {
     "name": "stdout",
     "output_type": "stream",
     "text": [
      "disclosures\t64\t0.0001\r\n",
      "missing\t64\t0.0001\r\n",
      "amt\t71\t0.0001\r\n",
      "day\t71\t0.0001\r\n",
      "checks\t75\t0.0001\r\n",
      "convenience\t75\t0.0001\r\n",
      "credited\t92\t0.0001\r\n",
      "payment\t92\t0.0001\r\n",
      "amount\t98\t0.0001\r\n",
      "apply\t118\t0.0002\r\n"
     ]
    }
   ],
   "source": [
    "# 3.2.C OUTPUT/ANSWER\n",
    "!hdfs dfs -cat HW3.2.C.freq-output/part-0000* > HW3.2.C.freq_counts.txt\n",
    "!cat HW3.2.C.freq_counts.txt | sort -k2,2n | head -n10"
   ]
  },
  {
   "cell_type": "markdown",
   "metadata": {},
   "source": [
    "#### END STUDENT CODE HW321"
   ]
  },
  {
   "cell_type": "markdown",
   "metadata": {},
   "source": [
    "<a name=\"3.3\"></a>\n",
    "## HW3.3. Shopping Cart Analysis\n",
    "Product Recommendations: The action or practice of selling additional products or services \n",
    "to existing customers is called cross-selling. Giving product recommendation is \n",
    "one of the examples of cross-selling that are frequently used by online retailers. \n",
    "One simple method to give product recommendations is to recommend products that are frequently\n",
    "browsed together by the customers.\n",
    "\t\n",
    "For this homework use the online browsing behavior dataset located at: \n",
    "\n",
    "       https://www.dropbox.com/s/zlfyiwa70poqg74/ProductPurchaseData.txt?dl=0\n",
    "\n",
    "Each line in this dataset represents a browsing session of a customer. \n",
    "On each line, each string of 8 characters represents the id of an item browsed during that session. \n",
    "The items are separated by spaces.\n",
    "\n",
    "Here are the first few lines of the ProductPurchaseData \n",
    "FRO11987 ELE17451 ELE89019 SNA90258 GRO99222 \n",
    "GRO99222 GRO12298 FRO12685 ELE91550 SNA11465 ELE26917 ELE52966 FRO90334 SNA30755 ELE17451 FRO84225 SNA80192 \n",
    "ELE17451 GRO73461 DAI22896 SNA99873 FRO86643 \n",
    "ELE17451 ELE37798 FRO86643 GRO56989 ELE23393 SNA11465 \n",
    "ELE17451 SNA69641 FRO86643 FRO78087 SNA11465 GRO39357 ELE28573 ELE11375 DAI54444 \n",
    "\n",
    "\n",
    "Do some exploratory data analysis of this dataset guided by the following questions:. \n",
    "\n",
    "How many unique items are available from this supplier?\n",
    "\n",
    "Using a single reducer: Report your findings such as number of unique products; largest basket; report the top 50 most frequently purchased items,  their frequency,  and their relative frequency (break ties by sorting the products alphabetical order) etc. using Hadoop Map-Reduce. "
   ]
  },
  {
   "cell_type": "markdown",
   "metadata": {},
   "source": [
    "#### START STUDENT CODE HW33 (INSERT CELLS BELOW AS NEEDED)"
   ]
  },
  {
   "cell_type": "code",
   "execution_count": 174,
   "metadata": {
    "collapsed": false
   },
   "outputs": [
    {
     "name": "stdout",
     "output_type": "stream",
     "text": [
      "  % Total    % Received % Xferd  Average Speed   Time    Time     Time  Current\n",
      "                                 Dload  Upload   Total   Spent    Left  Speed\n",
      "  0     0    0     0    0     0      0      0 --:--:-- --:--:-- --:--:--     0\n",
      "100 3377k  100 3377k    0     0  1371k      0  0:00:02  0:00:02 --:--:-- 2356k\n"
     ]
    }
   ],
   "source": [
    "!curl 'https://www.dropbox.com/s/zlfyiwa70poqg74/ProductPurchaseData.txt?dl=0' -L -o ProductPurchaseData.txt"
   ]
  },
  {
   "cell_type": "code",
   "execution_count": 175,
   "metadata": {
    "collapsed": false
   },
   "outputs": [
    {
     "name": "stdout",
     "output_type": "stream",
     "text": [
      "FRO11987 ELE17451 ELE89019 SNA90258 GRO99222 \r\n",
      "GRO99222 GRO12298 FRO12685 ELE91550 SNA11465 ELE26917 ELE52966 FRO90334 SNA30755 ELE17451 FRO84225 SNA80192 \r\n",
      "ELE17451 GRO73461 DAI22896 SNA99873 FRO86643 \r\n",
      "ELE17451 ELE37798 FRO86643 GRO56989 ELE23393 SNA11465 \r\n",
      "ELE17451 SNA69641 FRO86643 FRO78087 SNA11465 GRO39357 ELE28573 ELE11375 DAI54444 \r\n",
      "ELE17451 GRO73461 DAI22896 SNA99873 FRO18919 DAI50921 SNA80192 GRO75578 \r\n",
      "ELE17451 ELE59935 FRO18919 ELE23393 SNA80192 SNA85662 SNA91554 DAI22177 \r\n",
      "ELE17451 SNA69641 FRO18919 SNA90258 ELE28573 ELE11375 DAI14125 FRO78087 \r\n",
      "ELE17451 GRO73461 DAI22896 SNA80192 SNA85662 SNA90258 DAI46755 FRO81176 ELE66810 DAI49199 DAI91535 GRO94758 ELE94711 DAI22177 \r\n",
      "ELE17451 SNA69641 DAI91535 GRO94758 GRO99222 FRO76833 FRO81176 SNA80192 DAI54690 ELE37798 GRO56989 \r\n"
     ]
    }
   ],
   "source": [
    "!head ProductPurchaseData.txt"
   ]
  },
  {
   "cell_type": "markdown",
   "metadata": {},
   "source": [
    "**3.3 Mapper**"
   ]
  },
  {
   "cell_type": "code",
   "execution_count": 176,
   "metadata": {
    "collapsed": false
   },
   "outputs": [
    {
     "name": "stdout",
     "output_type": "stream",
     "text": [
      "Writing mapper3.3.py\n"
     ]
    }
   ],
   "source": [
    "%%writefile mapper3.3.py\n",
    "#!/usr/bin/env python\n",
    "\n",
    "import sys\n",
    "\n",
    "# Set up counters to monitor/understand the number of times a mapper task is run\n",
    "sys.stderr.write(\"reporter:counter:HW3.3 Mapper Counters,Calls,1\\n\")\n",
    "\n",
    "for line in sys.stdin:\n",
    "    prods = line.split()\n",
    "    for item in prods:\n",
    "        print '%s\\t%s\\t%s' % (item, 1,10)"
   ]
  },
  {
   "cell_type": "markdown",
   "metadata": {},
   "source": [
    "**3.3 Reducer**"
   ]
  },
  {
   "cell_type": "code",
   "execution_count": 179,
   "metadata": {
    "collapsed": false
   },
   "outputs": [
    {
     "name": "stdout",
     "output_type": "stream",
     "text": [
      "Overwriting reducer3.3.py\n"
     ]
    }
   ],
   "source": [
    "%%writefile reducer3.3.py\n",
    "#!/usr/bin/env python\n",
    "\n",
    "import sys\n",
    "# Set up counters to monitor/understand the number of times a reducer task is run\n",
    "sys.stderr.write(\"reporter:counter:HW3.3 Reducer Counters,Calls,1\\n\")\n",
    "\n",
    "d = {}\n",
    "total = 0\n",
    "# For each line from the mapper output, split the three attributes \n",
    "# Spam/Ham classification, key term, value count\n",
    "for line in sys.stdin:\n",
    "    key,value,x = line.split(\"\\t\",2)\n",
    "    \n",
    "    # check if docClass + key term combination exist in dictionary\n",
    "    # if so, update the term count value\n",
    "    if key in d:\n",
    "        d[key] += int(value)\n",
    "        \n",
    "    # if combination does not exist, add it to the dictionary\n",
    "    else:\n",
    "        d[key] = int(value)\n",
    "\n",
    "for key, value in d.iteritems():\n",
    "    total += int(value)\n",
    "        \n",
    "# for each value in the dictionary, print the 3 attributes in a \n",
    "# way that they can later be sorted appropriately\n",
    "for key, value in d.iteritems():\n",
    "    freq = 0\n",
    "    freq = round((float(value) / float(total)),4)\n",
    "    print '%s\\t%s\\t%s' % (key, value, freq)"
   ]
  },
  {
   "cell_type": "markdown",
   "metadata": {},
   "source": [
    "**3.3 Hadoop Calls**"
   ]
  },
  {
   "cell_type": "code",
   "execution_count": 185,
   "metadata": {
    "collapsed": false,
    "scrolled": true
   },
   "outputs": [
    {
     "name": "stdout",
     "output_type": "stream",
     "text": [
      "Deleted ProductPurchaseData.txt\n",
      "Deleted HW3.3-output\n",
      "packageJobJar: [] [/usr/lib/hadoop-mapreduce/hadoop-streaming-2.6.0-cdh5.8.0.jar] /tmp/streamjob6402019114965539630.jar tmpDir=null\n",
      "17/01/29 17:08:42 INFO client.RMProxy: Connecting to ResourceManager at /0.0.0.0:8032\n",
      "17/01/29 17:08:43 INFO client.RMProxy: Connecting to ResourceManager at /0.0.0.0:8032\n",
      "17/01/29 17:08:43 INFO mapred.FileInputFormat: Total input paths to process : 1\n",
      "17/01/29 17:08:43 INFO mapreduce.JobSubmitter: number of splits:2\n",
      "17/01/29 17:08:43 INFO mapreduce.JobSubmitter: Submitting tokens for job: job_1484544278544_0432\n",
      "17/01/29 17:08:44 INFO impl.YarnClientImpl: Submitted application application_1484544278544_0432\n",
      "17/01/29 17:08:44 INFO mapreduce.Job: The url to track the job: http://quickstart.cloudera:8088/proxy/application_1484544278544_0432/\n",
      "17/01/29 17:08:44 INFO mapreduce.Job: Running job: job_1484544278544_0432\n",
      "17/01/29 17:08:50 INFO mapreduce.Job: Job job_1484544278544_0432 running in uber mode : false\n",
      "17/01/29 17:08:50 INFO mapreduce.Job:  map 0% reduce 0%\n",
      "17/01/29 17:08:57 INFO mapreduce.Job:  map 50% reduce 0%\n",
      "17/01/29 17:08:58 INFO mapreduce.Job:  map 100% reduce 0%\n",
      "17/01/29 17:09:02 INFO mapreduce.Job:  map 100% reduce 100%\n",
      "17/01/29 17:09:03 INFO mapreduce.Job: Job job_1484544278544_0432 completed successfully\n",
      "17/01/29 17:09:03 INFO mapreduce.Job: Counters: 52\n",
      "\tFile System Counters\n",
      "\t\tFILE: Number of bytes read=320283\n",
      "\t\tFILE: Number of bytes written=1001504\n",
      "\t\tFILE: Number of read operations=0\n",
      "\t\tFILE: Number of large read operations=0\n",
      "\t\tFILE: Number of write operations=0\n",
      "\t\tHDFS: Number of bytes read=3462855\n",
      "\t\tHDFS: Number of bytes written=199652\n",
      "\t\tHDFS: Number of read operations=9\n",
      "\t\tHDFS: Number of large read operations=0\n",
      "\t\tHDFS: Number of write operations=2\n",
      "\tJob Counters \n",
      "\t\tKilled map tasks=1\n",
      "\t\tLaunched map tasks=2\n",
      "\t\tLaunched reduce tasks=1\n",
      "\t\tData-local map tasks=2\n",
      "\t\tTotal time spent by all maps in occupied slots (ms)=9713\n",
      "\t\tTotal time spent by all reduces in occupied slots (ms)=3324\n",
      "\t\tTotal time spent by all map tasks (ms)=9713\n",
      "\t\tTotal time spent by all reduce tasks (ms)=3324\n",
      "\t\tTotal vcore-seconds taken by all map tasks=9713\n",
      "\t\tTotal vcore-seconds taken by all reduce tasks=3324\n",
      "\t\tTotal megabyte-seconds taken by all map tasks=9946112\n",
      "\t\tTotal megabyte-seconds taken by all reduce tasks=3403776\n",
      "\tMap-Reduce Framework\n",
      "\t\tMap input records=31101\n",
      "\t\tMap output records=380824\n",
      "\t\tMap output bytes=5331536\n",
      "\t\tMap output materialized bytes=320289\n",
      "\t\tInput split bytes=242\n",
      "\t\tCombine input records=380824\n",
      "\t\tCombine output records=17745\n",
      "\t\tReduce input groups=17744\n",
      "\t\tReduce shuffle bytes=320289\n",
      "\t\tReduce input records=17745\n",
      "\t\tReduce output records=12592\n",
      "\t\tSpilled Records=35490\n",
      "\t\tShuffled Maps =2\n",
      "\t\tFailed Shuffles=0\n",
      "\t\tMerged Map outputs=2\n",
      "\t\tGC time elapsed (ms)=104\n",
      "\t\tCPU time spent (ms)=5640\n",
      "\t\tPhysical memory (bytes) snapshot=767594496\n",
      "\t\tVirtual memory (bytes) snapshot=4685082624\n",
      "\t\tTotal committed heap usage (bytes)=816840704\n",
      "\tHW3.3 Mapper Counters\n",
      "\t\tCalls=2\n",
      "\tHW3.3 Reducer Counters\n",
      "\t\tCalls=3\n",
      "\tShuffle Errors\n",
      "\t\tBAD_ID=0\n",
      "\t\tCONNECTION=0\n",
      "\t\tIO_ERROR=0\n",
      "\t\tWRONG_LENGTH=0\n",
      "\t\tWRONG_MAP=0\n",
      "\t\tWRONG_REDUCE=0\n",
      "\tFile Input Format Counters \n",
      "\t\tBytes Read=3462613\n",
      "\tFile Output Format Counters \n",
      "\t\tBytes Written=199652\n",
      "17/01/29 17:09:03 INFO streaming.StreamJob: Output directory: HW3.3-output\n"
     ]
    }
   ],
   "source": [
    "# Hadoop command\n",
    "\n",
    "!chmod a+x mapper3.3.py\n",
    "!chmod a+x reducer3.3.py\n",
    "\n",
    "!hdfs dfs -rm ProductPurchaseData.txt\n",
    "!hdfs dfs -copyFromLocal ProductPurchaseData.txt\n",
    "!hdfs dfs -rm -r HW3.3-output\n",
    "\n",
    "!hadoop jar /usr/lib/hadoop-0.20-mapreduce/contrib/streaming/hadoop-streaming-2.6.0-mr1-cdh5.8.0.jar \\\n",
    "  -files mapper3.3.py,reducer3.3.py \\\n",
    "  -reducer reducer3.3.py \\\n",
    "  -combiner reducer3.3.py \\\n",
    "  -mapper mapper3.3.py \\\n",
    "  -input ProductPurchaseData.txt \\\n",
    "  -output HW3.3-output \\\n",
    "  -numReduceTasks 1"
   ]
  },
  {
   "cell_type": "markdown",
   "metadata": {},
   "source": [
    "## 3.3 ANSWER"
   ]
  },
  {
   "cell_type": "markdown",
   "metadata": {},
   "source": [
    "**Top 50 Items**"
   ]
  },
  {
   "cell_type": "code",
   "execution_count": 187,
   "metadata": {
    "collapsed": false,
    "scrolled": true
   },
   "outputs": [
    {
     "name": "stdout",
     "output_type": "stream",
     "text": [
      "DAI62779\t6667\t0.0175\r\n",
      "FRO40251\t3881\t0.0102\r\n",
      "ELE17451\t3875\t0.0102\r\n",
      "GRO73461\t3602\t0.0095\r\n",
      "SNA80324\t3044\t0.008\r\n",
      "ELE32164\t2851\t0.0075\r\n",
      "DAI75645\t2736\t0.0072\r\n",
      "SNA45677\t2455\t0.0064\r\n",
      "FRO31317\t2330\t0.0061\r\n",
      "DAI85309\t2293\t0.006\r\n",
      "ELE26917\t2292\t0.006\r\n",
      "FRO80039\t2233\t0.0059\r\n",
      "GRO21487\t2115\t0.0056\r\n",
      "SNA99873\t2083\t0.0055\r\n",
      "GRO59710\t2004\t0.0053\r\n",
      "GRO71621\t1920\t0.005\r\n",
      "FRO85978\t1918\t0.005\r\n",
      "GRO30386\t1840\t0.0048\r\n",
      "ELE74009\t1816\t0.0048\r\n",
      "GRO56726\t1784\t0.0047\r\n",
      "DAI63921\t1773\t0.0047\r\n",
      "GRO46854\t1756\t0.0046\r\n",
      "ELE66600\t1713\t0.0045\r\n",
      "DAI83733\t1712\t0.0045\r\n",
      "FRO32293\t1702\t0.0045\r\n",
      "ELE66810\t1697\t0.0045\r\n",
      "SNA55762\t1646\t0.0043\r\n",
      "DAI22177\t1627\t0.0043\r\n",
      "FRO78087\t1531\t0.004\r\n",
      "ELE99737\t1516\t0.004\r\n",
      "ELE34057\t1489\t0.0039\r\n",
      "GRO94758\t1489\t0.0039\r\n",
      "FRO35904\t1436\t0.0038\r\n",
      "FRO53271\t1420\t0.0037\r\n",
      "SNA93860\t1407\t0.0037\r\n",
      "SNA90094\t1390\t0.0036\r\n",
      "GRO38814\t1352\t0.0036\r\n",
      "ELE56788\t1345\t0.0035\r\n",
      "GRO61133\t1321\t0.0035\r\n",
      "DAI88807\t1316\t0.0035\r\n",
      "ELE74482\t1316\t0.0035\r\n",
      "ELE59935\t1311\t0.0034\r\n",
      "SNA96271\t1295\t0.0034\r\n",
      "DAI43223\t1290\t0.0034\r\n",
      "ELE91337\t1289\t0.0034\r\n",
      "GRO15017\t1275\t0.0033\r\n",
      "DAI31081\t1261\t0.0033\r\n",
      "GRO81087\t1220\t0.0032\r\n",
      "DAI22896\t1219\t0.0032\r\n",
      "GRO85051\t1214\t0.0032\r\n",
      "sort: write failed: standard output: Broken pipe\r\n",
      "sort: write error\r\n"
     ]
    }
   ],
   "source": [
    "# 3.3 OUTPUT/ANSWER\n",
    "!hdfs dfs -cat HW3.3-output/part-0000* > HW3.3counts.txt\n",
    "!cat HW3.3counts.txt | sort -k2,2nr | head -n50"
   ]
  },
  {
   "cell_type": "markdown",
   "metadata": {},
   "source": [
    "**Number of Unique Items**"
   ]
  },
  {
   "cell_type": "code",
   "execution_count": 186,
   "metadata": {
    "collapsed": false
   },
   "outputs": [
    {
     "name": "stdout",
     "output_type": "stream",
     "text": [
      "12592\r\n"
     ]
    }
   ],
   "source": [
    "!cat HW3.3counts.txt | wc -l"
   ]
  },
  {
   "cell_type": "markdown",
   "metadata": {},
   "source": [
    "#### END STUDENT CODE HW33"
   ]
  },
  {
   "cell_type": "markdown",
   "metadata": {},
   "source": [
    "<a name=\"3.3.1\"></a>\n",
    "## HW3.3.1 OPTIONAL \n",
    "Using 2 reducers:  Report your findings such as number of unique products; largest basket; report the top 50 most frequently purchased items,  their frequency,  and their relative frequency (break ties by sorting the products alphabetical order) etc. using Hadoop Map-Reduce. "
   ]
  },
  {
   "cell_type": "markdown",
   "metadata": {},
   "source": [
    "#### START STUDENT CODE HW331 (INSERT CELLS BELOW AS NEEDED)"
   ]
  },
  {
   "cell_type": "markdown",
   "metadata": {},
   "source": [
    "#### END STUDENT CODE HW331"
   ]
  },
  {
   "cell_type": "markdown",
   "metadata": {},
   "source": [
    "<a name=\"3.4\"></a>\n",
    "## HW3.4. (Computationally prohibitive but then again Hadoop can handle this) Pairs\n",
    "\n",
    "Suppose we want to recommend new products to the customer based on the products they\n",
    "have already browsed on the online website. Write a map-reduce program \n",
    "to find products which are frequently browsed together. Fix the support count (cooccurence count) to s = 100 \n",
    "(i.e. product pairs need to occur together at least 100 times to be considered frequent) \n",
    "and find pairs of items (sometimes referred to itemsets of size 2 in association rule mining) that have a support count of 100 or more.\n",
    "\n",
    "List the top 50 product pairs with corresponding support count (aka frequency), and relative frequency or support (number of records where they coccur, the number of records where they coccur/the number of baskets in the dataset)  in decreasing order of support  for frequent (100>count) itemsets of size 2. \n",
    "\n",
    "Use the Pairs pattern (lecture 3)  to  extract these frequent itemsets of size 2. Free free to use combiners if they bring value. Instrument your code with counters for count the number of times your mapper, combiner and reducers are called.  \n",
    "\n",
    "Please output records of the following form for the top 50 pairs (itemsets of size 2): \n",
    "\n",
    "      item1, item2, support count, support\n",
    "\n",
    "\n",
    "\n",
    "Fix the ordering of the pairs lexicographically (left to right), \n",
    "and break ties in support (between pairs, if any exist) \n",
    "by taking the first ones in lexicographically increasing order. \n",
    "\n",
    "Report  the compute time for the Pairs job. Describe the computational setup used (E.g., single computer; dual core; linux, number of mappers, number of reducers)\n",
    "Instrument your mapper, combiner, and reducer to count how many times each is called using Counters and report these counts."
   ]
  },
  {
   "cell_type": "markdown",
   "metadata": {},
   "source": [
    "#### START STUDENT CODE HW34 (INSERT CELLS BELOW AS NEEDED)"
   ]
  },
  {
   "cell_type": "code",
   "execution_count": 47,
   "metadata": {
    "collapsed": false
   },
   "outputs": [
    {
     "name": "stdout",
     "output_type": "stream",
     "text": [
      "Overwriting mapper3.4.py\n"
     ]
    }
   ],
   "source": [
    "%%writefile mapper3.4.py\n",
    "#!/usr/bin/env python\n",
    "\n",
    "import sys\n",
    "\n",
    "# Set up counters to monitor/understand the number of times a mapper task is run\n",
    "sys.stderr.write(\"reporter:counter:HW3.4 Mapper Counters,Calls,1\\n\")\n",
    "\n",
    "for line in sys.stdin:\n",
    "    prods = line.split()\n",
    "    # The outer loop runs through each individual item in a basket\n",
    "    for item1 in prods:\n",
    "        # The inner loop sorts through all of the other basket items and creates an interaction\n",
    "        for item2 in prods:\n",
    "            if item1 != item2:\n",
    "                \n",
    "                # the '10' is just a placeholder because the reducer is going to have 4 outputs\n",
    "                print '%s\\t%s\\t%s\\t%s' % (item1, item2, 1,10)"
   ]
  },
  {
   "cell_type": "code",
   "execution_count": 99,
   "metadata": {
    "collapsed": false
   },
   "outputs": [
    {
     "name": "stdout",
     "output_type": "stream",
     "text": [
      "Overwriting reducer3.4.py\n"
     ]
    }
   ],
   "source": [
    "%%writefile reducer3.4.py\n",
    "#!/usr/bin/env python\n",
    "\n",
    "import sys\n",
    "from collections import defaultdict\n",
    "\n",
    "# Set up counters to monitor/understand the number of times a reducer task is run\n",
    "sys.stderr.write(\"reporter:counter:HW3.4 Reducer Counters,Calls,1\\n\")\n",
    "\n",
    "d = defaultdict(int)\n",
    "total = 0\n",
    "\n",
    "for line in sys.stdin:\n",
    "    \n",
    "    # the x is actually only a placeholder because the true input only has 3 relevant fields,\n",
    "    # but the output has 4\n",
    "    prod1,prod2,count,x = line.split('\\t',3)\n",
    "    prod1 = prod1.strip()\n",
    "    prod2 = prod2.strip()\n",
    "    count = int(count)\n",
    "\n",
    "    # add the count to the dictionary where appropriate\n",
    "    if (prod1, prod2) in d:\n",
    "        d[(prod1,prod2)] += count\n",
    "    else:\n",
    "    #elif (prod2, prod1) not in d:\n",
    "        d[(prod1,prod2)] = count\n",
    "\n",
    "# Calculate the total number of product interactions\n",
    "for key, value in d.iteritems():\n",
    "    if value >= 100:\n",
    "        total += int(value)\n",
    "        \n",
    "# As mentioned in the prompt, calculate the relative frequency of each product combination, \n",
    "# but only for ones that have at least 100 co-occurrences\n",
    "for key, value in d.iteritems():\n",
    "    if value >= 100:\n",
    "        freq = 0\n",
    "        freq = round((float(value) / float(total)),4)\n",
    "        print '%s\\t%s\\t%s\\t%s' % (key[0], key[1], value, freq)"
   ]
  },
  {
   "cell_type": "markdown",
   "metadata": {},
   "source": [
    "**Hadoop Calls**"
   ]
  },
  {
   "cell_type": "code",
   "execution_count": 100,
   "metadata": {
    "collapsed": false,
    "scrolled": true
   },
   "outputs": [
    {
     "name": "stdout",
     "output_type": "stream",
     "text": [
      "Deleted ProductPurchaseData.txt\n",
      "Deleted HW3.4-output\n",
      "packageJobJar: [] [/usr/lib/hadoop-mapreduce/hadoop-streaming-2.6.0-cdh5.8.0.jar] /tmp/streamjob2065350177640137035.jar tmpDir=null\n",
      "17/01/31 00:39:58 INFO client.RMProxy: Connecting to ResourceManager at /0.0.0.0:8032\n",
      "17/01/31 00:39:58 INFO client.RMProxy: Connecting to ResourceManager at /0.0.0.0:8032\n",
      "17/01/31 00:39:59 INFO mapred.FileInputFormat: Total input paths to process : 1\n",
      "17/01/31 00:39:59 INFO mapreduce.JobSubmitter: number of splits:2\n",
      "17/01/31 00:39:59 INFO mapreduce.JobSubmitter: Submitting tokens for job: job_1484544278544_0486\n",
      "17/01/31 00:40:00 INFO impl.YarnClientImpl: Submitted application application_1484544278544_0486\n",
      "17/01/31 00:40:00 INFO mapreduce.Job: The url to track the job: http://quickstart.cloudera:8088/proxy/application_1484544278544_0486/\n",
      "17/01/31 00:40:00 INFO mapreduce.Job: Running job: job_1484544278544_0486\n",
      "17/01/31 00:40:07 INFO mapreduce.Job: Job job_1484544278544_0486 running in uber mode : false\n",
      "17/01/31 00:40:07 INFO mapreduce.Job:  map 0% reduce 0%\n",
      "17/01/31 00:40:20 INFO mapreduce.Job:  map 33% reduce 0%\n",
      "17/01/31 00:40:21 INFO mapreduce.Job:  map 67% reduce 0%\n",
      "17/01/31 00:40:30 INFO mapreduce.Job:  map 83% reduce 0%\n",
      "17/01/31 00:40:32 INFO mapreduce.Job:  map 100% reduce 0%\n",
      "17/01/31 00:40:37 INFO mapreduce.Job:  map 100% reduce 100%\n",
      "17/01/31 00:40:37 INFO mapreduce.Job: Job job_1484544278544_0486 completed successfully\n",
      "17/01/31 00:40:38 INFO mapreduce.Job: Counters: 51\n",
      "\tFile System Counters\n",
      "\t\tFILE: Number of bytes read=71116\n",
      "\t\tFILE: Number of bytes written=467603\n",
      "\t\tFILE: Number of read operations=0\n",
      "\t\tFILE: Number of large read operations=0\n",
      "\t\tFILE: Number of write operations=0\n",
      "\t\tHDFS: Number of bytes read=3462855\n",
      "\t\tHDFS: Number of bytes written=25932\n",
      "\t\tHDFS: Number of read operations=9\n",
      "\t\tHDFS: Number of large read operations=0\n",
      "\t\tHDFS: Number of write operations=2\n",
      "\tJob Counters \n",
      "\t\tLaunched map tasks=2\n",
      "\t\tLaunched reduce tasks=1\n",
      "\t\tData-local map tasks=2\n",
      "\t\tTotal time spent by all maps in occupied slots (ms)=43193\n",
      "\t\tTotal time spent by all reduces in occupied slots (ms)=4316\n",
      "\t\tTotal time spent by all map tasks (ms)=43193\n",
      "\t\tTotal time spent by all reduce tasks (ms)=4316\n",
      "\t\tTotal vcore-seconds taken by all map tasks=43193\n",
      "\t\tTotal vcore-seconds taken by all reduce tasks=4316\n",
      "\t\tTotal megabyte-seconds taken by all map tasks=44229632\n",
      "\t\tTotal megabyte-seconds taken by all reduce tasks=4419584\n",
      "\tMap-Reduce Framework\n",
      "\t\tMap input records=31101\n",
      "\t\tMap output records=5068108\n",
      "\t\tMap output bytes=116566484\n",
      "\t\tMap output materialized bytes=35555\n",
      "\t\tInput split bytes=242\n",
      "\t\tCombine input records=5068108\n",
      "\t\tCombine output records=1152\n",
      "\t\tReduce input groups=1105\n",
      "\t\tReduce shuffle bytes=35555\n",
      "\t\tReduce input records=1152\n",
      "\t\tReduce output records=896\n",
      "\t\tSpilled Records=3456\n",
      "\t\tShuffled Maps =2\n",
      "\t\tFailed Shuffles=0\n",
      "\t\tMerged Map outputs=2\n",
      "\t\tGC time elapsed (ms)=130\n",
      "\t\tCPU time spent (ms)=25010\n",
      "\t\tPhysical memory (bytes) snapshot=782188544\n",
      "\t\tVirtual memory (bytes) snapshot=4670607360\n",
      "\t\tTotal committed heap usage (bytes)=816840704\n",
      "\tHW3.4 Mapper Counters\n",
      "\t\tCalls=2\n",
      "\tHW3.4 Reducer Counters\n",
      "\t\tCalls=5\n",
      "\tShuffle Errors\n",
      "\t\tBAD_ID=0\n",
      "\t\tCONNECTION=0\n",
      "\t\tIO_ERROR=0\n",
      "\t\tWRONG_LENGTH=0\n",
      "\t\tWRONG_MAP=0\n",
      "\t\tWRONG_REDUCE=0\n",
      "\tFile Input Format Counters \n",
      "\t\tBytes Read=3462613\n",
      "\tFile Output Format Counters \n",
      "\t\tBytes Written=25932\n",
      "17/01/31 00:40:38 INFO streaming.StreamJob: Output directory: HW3.4-output\n"
     ]
    }
   ],
   "source": [
    "# Hadoop commands\n",
    "\n",
    "!chmod a+x mapper3.4.py\n",
    "!chmod a+x reducer3.4.py\n",
    "\n",
    "!hdfs dfs -rm ProductPurchaseData.txt\n",
    "!hdfs dfs -copyFromLocal ProductPurchaseData.txt\n",
    "!hdfs dfs -rm -r HW3.4-output\n",
    "\n",
    "!hadoop jar /usr/lib/hadoop-0.20-mapreduce/contrib/streaming/hadoop-streaming-2.6.0-mr1-cdh5.8.0.jar \\\n",
    "  -files mapper3.4.py,reducer3.4.py \\\n",
    "  -reducer reducer3.4.py \\\n",
    "  -combiner reducer3.4.py \\\n",
    "  -mapper mapper3.4.py \\\n",
    "  -input ProductPurchaseData.txt \\\n",
    "  -output HW3.4-output \\\n",
    "  -numReduceTasks 1"
   ]
  },
  {
   "cell_type": "markdown",
   "metadata": {},
   "source": [
    "**3.4 ANSWER**"
   ]
  },
  {
   "cell_type": "markdown",
   "metadata": {},
   "source": [
    "**Pairs Job Runtime:** \n",
    "26 seconds\n",
    "\n",
    "**My personal PC:**\n",
    "Single PC, 4 cores, 16GB RAM, MacOS\n",
    "\n",
    "**My Virtual Machine:**\n",
    "3 processors, 9GB RAM, Linux\n",
    "\n",
    "**MapReduce Configuration:**\n",
    "2 Mappers, 1 Reducer, 2 Map Calls, 5 Reducer Calls"
   ]
  },
  {
   "cell_type": "code",
   "execution_count": 101,
   "metadata": {
    "collapsed": false,
    "scrolled": true
   },
   "outputs": [
    {
     "name": "stdout",
     "output_type": "stream",
     "text": [
      "DAI22177\tDAI62779\t327\t0.0017\r\n",
      "DAI22177\tDAI85309\t128\t0.0007\r\n",
      "DAI22177\tFRO85978\t106\t0.0005\r\n",
      "DAI22177\tGRO73461\t146\t0.0007\r\n",
      "DAI22240\tELE37048\t113\t0.0006\r\n",
      "DAI22896\tDAI62779\t261\t0.0013\r\n",
      "DAI22896\tDAI75645\t127\t0.0006\r\n",
      "DAI22896\tGRO38814\t141\t0.0007\r\n",
      "DAI22896\tGRO73461\t211\t0.0011\r\n",
      "DAI22896\tSNA72163\t102\t0.0005\r\n",
      "DAI23334\tDAI62779\t247\t0.0013\r\n",
      "DAI23334\tELE92920\t140\t0.0007\r\n",
      "DAI31081\tDAI62779\t330\t0.0017\r\n",
      "DAI31081\tDAI75645\t122\t0.0006\r\n",
      "DAI31081\tELE17451\t104\t0.0005\r\n",
      "DAI31081\tELE32164\t265\t0.0013\r\n",
      "DAI31081\tFRO40251\t173\t0.0009\r\n",
      "DAI31081\tGRO73461\t159\t0.0008\r\n",
      "DAI31081\tSNA80324\t110\t0.0006\r\n",
      "DAI35347\tDAI62779\t107\t0.0005\r\n",
      "DAI35347\tELE66810\t175\t0.0009\r\n",
      "DAI35347\tFRO31317\t284\t0.0014\r\n",
      "DAI42083\tDAI92600\t256\t0.0013\r\n",
      "DAI42083\tELE17451\t107\t0.0005\r\n",
      "DAI42493\tDAI62779\t195\t0.001\r\n",
      "DAI42493\tELE17451\t138\t0.0007\r\n",
      "DAI42493\tELE32164\t196\t0.001\r\n",
      "DAI42493\tELE92920\t125\t0.0006\r\n",
      "DAI42493\tFRO40251\t141\t0.0007\r\n",
      "DAI42493\tGRO59710\t193\t0.001\r\n",
      "DAI43223\tDAI62779\t418\t0.0021\r\n",
      "DAI43223\tELE17451\t272\t0.0014\r\n",
      "DAI43223\tELE32164\t624\t0.0032\r\n",
      "DAI43223\tELE92920\t102\t0.0005\r\n",
      "DAI43223\tGRO59710\t454\t0.0023\r\n",
      "DAI43223\tGRO73461\t108\t0.0005\r\n",
      "DAI43223\tGRO94758\t105\t0.0005\r\n",
      "DAI43868\tSNA82528\t258\t0.0013\r\n",
      "DAI48891\tDAI62779\t143\t0.0007\r\n",
      "DAI48891\tSNA45677\t126\t0.0006\r\n",
      "DAI55148\tDAI62779\t428\t0.0022\r\n",
      "DAI55148\tDAI75645\t189\t0.001\r\n",
      "DAI55148\tELE17451\t241\t0.0012\r\n",
      "DAI55148\tELE32164\t102\t0.0005\r\n",
      "DAI55148\tFRO40251\t197\t0.001\r\n",
      "DAI55148\tSNA80324\t201\t0.001\r\n",
      "DAI55911\tDAI62779\t236\t0.0012\r\n",
      "DAI55911\tFRO40251\t141\t0.0007\r\n",
      "DAI55911\tGRO85051\t105\t0.0005\r\n",
      "DAI62779\tDAI22177\t326\t0.0017\r\n"
     ]
    }
   ],
   "source": [
    "# 3.4 OUTPUT/ANSWER\n",
    "!hdfs dfs -cat HW3.4-output/part-0000* > HW3.4counts.txt\n",
    "!cat HW3.4counts.txt | sort -k1,2 | head -n50"
   ]
  },
  {
   "cell_type": "markdown",
   "metadata": {},
   "source": [
    "#### END STUDENT CODE HW34"
   ]
  },
  {
   "cell_type": "markdown",
   "metadata": {},
   "source": [
    "<a name=\"3.5\"></a>\n",
    "## HW3.5: Stripes\n",
    "Repeat 3.4 using the stripes design pattern for finding cooccuring pairs.\n",
    "\n",
    "Report  the compute times for stripes job versus the Pairs job. Describe the computational setup used (E.g., single computer; dual core; linux, number of mappers, number of reducers)\n",
    "\n",
    "Instrument your mapper, combiner, and reducer to count how many times each is called using Counters and report these counts. Discuss the differences in these counts between the Pairs and Stripes jobs\n"
   ]
  },
  {
   "cell_type": "markdown",
   "metadata": {},
   "source": [
    "#### START STUDENT CODE HW35 (INSERT CELLS BELOW AS NEEDED)"
   ]
  },
  {
   "cell_type": "markdown",
   "metadata": {},
   "source": [
    "**3.5 Mapper**"
   ]
  },
  {
   "cell_type": "code",
   "execution_count": 50,
   "metadata": {
    "collapsed": false
   },
   "outputs": [
    {
     "name": "stdout",
     "output_type": "stream",
     "text": [
      "Overwriting mapper3.5.py\n"
     ]
    }
   ],
   "source": [
    "%%writefile mapper3.5.py\n",
    "#!/usr/bin/env python\n",
    "\n",
    "import sys\n",
    "from collections import defaultdict\n",
    "# Set up counters to monitor/understand the number of times a mapper task is run\n",
    "sys.stderr.write(\"reporter:counter:HW3.5 Mapper Counters,Calls,1\\n\")\n",
    "d = {}\n",
    "for line in sys.stdin:\n",
    "    line.strip()\n",
    "    prods = line.split()\n",
    "    \n",
    "    # The outer loop runs through each individual item in a basket\n",
    "    for item1 in prods:\n",
    "        if item1 not in d:\n",
    "            d[item1] = {}\n",
    "        \n",
    "        # The inner loop sorts through all of the other basket items and creates an interaction\n",
    "        for item2 in prods:\n",
    "            if item1 != item2:\n",
    "                \n",
    "                # This section is creating a hash table for the product interactions\n",
    "                if item2 in d[item1]:\n",
    "                    d[item1][item2] += 1\n",
    "                else:\n",
    "                    d[item1][item2] = 1\n",
    "\n",
    "for key in d.iteritems():\n",
    "    print '%s\\t%s' % (key[0], key[1])"
   ]
  },
  {
   "cell_type": "markdown",
   "metadata": {},
   "source": [
    "**3.5 Combiner**"
   ]
  },
  {
   "cell_type": "code",
   "execution_count": 102,
   "metadata": {
    "collapsed": false
   },
   "outputs": [
    {
     "name": "stdout",
     "output_type": "stream",
     "text": [
      "Overwriting combiner3.5.py\n"
     ]
    }
   ],
   "source": [
    "%%writefile combiner3.5.py\n",
    "#!/usr/bin/env python\n",
    "\n",
    "import sys\n",
    "from collections import defaultdict\n",
    "import ast\n",
    "\n",
    "# Set up counters to monitor/understand the number of times a reducer task is run\n",
    "sys.stderr.write(\"reporter:counter:HW3.5 Reducer Counters,Calls,1\\n\")\n",
    "\n",
    "d = defaultdict(int)\n",
    "\n",
    "for line in sys.stdin:\n",
    "    \n",
    "    prod,stripe = line.split('\\t')\n",
    "    prod = prod.strip()\n",
    "    \n",
    "    # this will take the string and convert it to a dictionary    \n",
    "    stripe = ast.literal_eval(stripe)\n",
    "    \n",
    "\n",
    "    # add the count to the dictionary where appropriate\n",
    "    if prod in d:\n",
    "        for key in stripe.iteritems():\n",
    "            if key[0] in d[prod]:\n",
    "                d[prod][key[0]] += stripe[key[0]]\n",
    "            else:\n",
    "                d[prod][key[0]] = stripe[key[0]]\n",
    "    else:\n",
    "        d[prod] = stripe\n",
    "\n",
    "for key in d.iteritems():\n",
    "    print '%s\\t%s' % (key[0], key[1])"
   ]
  },
  {
   "cell_type": "markdown",
   "metadata": {},
   "source": [
    "**3.5 Reducer**"
   ]
  },
  {
   "cell_type": "code",
   "execution_count": 103,
   "metadata": {
    "collapsed": false
   },
   "outputs": [
    {
     "name": "stdout",
     "output_type": "stream",
     "text": [
      "Overwriting reducer3.5.py\n"
     ]
    }
   ],
   "source": [
    "%%writefile reducer3.5.py\n",
    "#!/usr/bin/env python\n",
    "\n",
    "import sys\n",
    "from collections import defaultdict\n",
    "import ast\n",
    "\n",
    "# Set up counters to monitor/understand the number of times a reducer task is run\n",
    "sys.stderr.write(\"reporter:counter:HW3.5 Reducer Counters,Calls,1\\n\")\n",
    "\n",
    "d = defaultdict(int)\n",
    "total = 0\n",
    "\n",
    "for line in sys.stdin:\n",
    "\n",
    "    prod,stripe = line.split('\\t')\n",
    "    prod = prod.strip()\n",
    "    \n",
    "    # this will take the string and convert it to a dictionary\n",
    "    stripe = ast.literal_eval(stripe)\n",
    "\n",
    "    # add the count to the dictionary where appropriate\n",
    "    if prod in d:\n",
    "        for key in stripe.iteritems():\n",
    "            if key[0] in d[prod]:\n",
    "                d[prod][key[0]] += stripe[key[0]]\n",
    "            else:\n",
    "                d[prod][key[0]] = stripe[key[0]]\n",
    "    else:\n",
    "        d[prod] = stripe\n",
    "\n",
    "        \n",
    "# increment the total amount\n",
    "for key in d.iteritems():\n",
    "    for key2, value in key[1].iteritems():\n",
    "        if value >= 100:\n",
    "            total += int(value)\n",
    "\n",
    "# calculate the frequency and print the values\n",
    "for key in d.iteritems():\n",
    "    for key2, value in key[1].iteritems():\n",
    "        if value >= 100:\n",
    "            freq = 0\n",
    "            freq = round((float(value) / float(total)), 4)\n",
    "            print '%s\\t%s\\t%s\\t%s' % (key[0], key2, value, freq)"
   ]
  },
  {
   "cell_type": "markdown",
   "metadata": {},
   "source": [
    "**Hadoop Calls**"
   ]
  },
  {
   "cell_type": "code",
   "execution_count": 105,
   "metadata": {
    "collapsed": false,
    "scrolled": true
   },
   "outputs": [
    {
     "name": "stdout",
     "output_type": "stream",
     "text": [
      "Deleted ProductPurchaseData.txt\n",
      "Deleted HW3.5-output\n",
      "packageJobJar: [] [/usr/lib/hadoop-mapreduce/hadoop-streaming-2.6.0-cdh5.8.0.jar] /tmp/streamjob1532552472890765337.jar tmpDir=null\n",
      "17/01/31 00:43:30 INFO client.RMProxy: Connecting to ResourceManager at /0.0.0.0:8032\n",
      "17/01/31 00:43:31 INFO client.RMProxy: Connecting to ResourceManager at /0.0.0.0:8032\n",
      "17/01/31 00:43:31 INFO mapred.FileInputFormat: Total input paths to process : 1\n",
      "17/01/31 00:43:31 INFO mapreduce.JobSubmitter: number of splits:2\n",
      "17/01/31 00:43:31 INFO mapreduce.JobSubmitter: Submitting tokens for job: job_1484544278544_0487\n",
      "17/01/31 00:43:32 INFO impl.YarnClientImpl: Submitted application application_1484544278544_0487\n",
      "17/01/31 00:43:32 INFO mapreduce.Job: The url to track the job: http://quickstart.cloudera:8088/proxy/application_1484544278544_0487/\n",
      "17/01/31 00:43:32 INFO mapreduce.Job: Running job: job_1484544278544_0487\n",
      "17/01/31 00:43:39 INFO mapreduce.Job: Job job_1484544278544_0487 running in uber mode : false\n",
      "17/01/31 00:43:39 INFO mapreduce.Job:  map 0% reduce 0%\n",
      "17/01/31 00:43:50 INFO mapreduce.Job:  map 33% reduce 0%\n",
      "17/01/31 00:43:51 INFO mapreduce.Job:  map 67% reduce 0%\n",
      "17/01/31 00:43:55 INFO mapreduce.Job:  map 100% reduce 0%\n",
      "17/01/31 00:44:06 INFO mapreduce.Job:  map 100% reduce 80%\n",
      "17/01/31 00:44:09 INFO mapreduce.Job:  map 100% reduce 87%\n",
      "17/01/31 00:44:12 INFO mapreduce.Job:  map 100% reduce 93%\n",
      "17/01/31 00:44:15 INFO mapreduce.Job:  map 100% reduce 98%\n",
      "17/01/31 00:44:18 INFO mapreduce.Job:  map 100% reduce 100%\n",
      "17/01/31 00:44:18 INFO mapreduce.Job: Job job_1484544278544_0487 completed successfully\n",
      "17/01/31 00:44:18 INFO mapreduce.Job: Counters: 51\n",
      "\tFile System Counters\n",
      "\t\tFILE: Number of bytes read=31143078\n",
      "\t\tFILE: Number of bytes written=62648126\n",
      "\t\tFILE: Number of read operations=0\n",
      "\t\tFILE: Number of large read operations=0\n",
      "\t\tFILE: Number of write operations=0\n",
      "\t\tHDFS: Number of bytes read=3462855\n",
      "\t\tHDFS: Number of bytes written=77368\n",
      "\t\tHDFS: Number of read operations=9\n",
      "\t\tHDFS: Number of large read operations=0\n",
      "\t\tHDFS: Number of write operations=2\n",
      "\tJob Counters \n",
      "\t\tLaunched map tasks=2\n",
      "\t\tLaunched reduce tasks=1\n",
      "\t\tData-local map tasks=2\n",
      "\t\tTotal time spent by all maps in occupied slots (ms)=28241\n",
      "\t\tTotal time spent by all reduces in occupied slots (ms)=20361\n",
      "\t\tTotal time spent by all map tasks (ms)=28241\n",
      "\t\tTotal time spent by all reduce tasks (ms)=20361\n",
      "\t\tTotal vcore-seconds taken by all map tasks=28241\n",
      "\t\tTotal vcore-seconds taken by all reduce tasks=20361\n",
      "\t\tTotal megabyte-seconds taken by all map tasks=28918784\n",
      "\t\tTotal megabyte-seconds taken by all reduce tasks=20849664\n",
      "\tMap-Reduce Framework\n",
      "\t\tMap input records=31101\n",
      "\t\tMap output records=17745\n",
      "\t\tMap output bytes=31079530\n",
      "\t\tMap output materialized bytes=31143084\n",
      "\t\tInput split bytes=242\n",
      "\t\tCombine input records=17745\n",
      "\t\tCombine output records=17745\n",
      "\t\tReduce input groups=17744\n",
      "\t\tReduce shuffle bytes=31143084\n",
      "\t\tReduce input records=17745\n",
      "\t\tReduce output records=2668\n",
      "\t\tSpilled Records=35490\n",
      "\t\tShuffled Maps =2\n",
      "\t\tFailed Shuffles=0\n",
      "\t\tMerged Map outputs=2\n",
      "\t\tGC time elapsed (ms)=184\n",
      "\t\tCPU time spent (ms)=31180\n",
      "\t\tPhysical memory (bytes) snapshot=822575104\n",
      "\t\tVirtual memory (bytes) snapshot=4706484224\n",
      "\t\tTotal committed heap usage (bytes)=838860800\n",
      "\tHW3.4 Mapper Counters\n",
      "\t\tCalls=2\n",
      "\tHW3.5 Reducer Counters\n",
      "\t\tCalls=3\n",
      "\tShuffle Errors\n",
      "\t\tBAD_ID=0\n",
      "\t\tCONNECTION=0\n",
      "\t\tIO_ERROR=0\n",
      "\t\tWRONG_LENGTH=0\n",
      "\t\tWRONG_MAP=0\n",
      "\t\tWRONG_REDUCE=0\n",
      "\tFile Input Format Counters \n",
      "\t\tBytes Read=3462613\n",
      "\tFile Output Format Counters \n",
      "\t\tBytes Written=77368\n",
      "17/01/31 00:44:18 INFO streaming.StreamJob: Output directory: HW3.5-output\n"
     ]
    }
   ],
   "source": [
    "# Hadoop commands\n",
    "\n",
    "!chmod a+x mapper3.5.py\n",
    "!chmod a+x reducer3.5.py\n",
    "!chmod a+x combiner3.5.py\n",
    "\n",
    "!hdfs dfs -rm ProductPurchaseData.txt\n",
    "!hdfs dfs -copyFromLocal ProductPurchaseData.txt\n",
    "!hdfs dfs -rm -r HW3.5-output\n",
    "\n",
    "!hadoop jar /usr/lib/hadoop-0.20-mapreduce/contrib/streaming/hadoop-streaming-2.6.0-mr1-cdh5.8.0.jar \\\n",
    "  -files mapper3.5.py,combiner3.5.py,reducer3.5.py \\\n",
    "  -reducer reducer3.5.py \\\n",
    "  -combiner combiner3.5.py \\\n",
    "  -mapper mapper3.5.py \\\n",
    "  -input ProductPurchaseData.txt \\\n",
    "  -output HW3.5-output \\\n",
    "  -numReduceTasks 1"
   ]
  },
  {
   "cell_type": "markdown",
   "metadata": {},
   "source": [
    "**Pairs Job Runtime:** \n",
    "39 seconds\n",
    "\n",
    "**My personal PC:**\n",
    "Single PC, 4 cores, 16GB RAM, MacOS\n",
    "\n",
    "**My Virtual Machine:**\n",
    "3 processors, 9GB RAM, Linux\n",
    "\n",
    "**MapReduce Configuration:**\n",
    "2 Mappers, 1 Reducer, 2 Map Calls, 3 Reducer Calls"
   ]
  },
  {
   "cell_type": "code",
   "execution_count": 106,
   "metadata": {
    "collapsed": false,
    "scrolled": true
   },
   "outputs": [
    {
     "name": "stdout",
     "output_type": "stream",
     "text": [
      "DAI16732\tFRO78087\t106\t0.0002\r\n",
      "DAI18527\tSNA44451\t102\t0.0002\r\n",
      "DAI22177\tDAI31081\t127\t0.0003\r\n",
      "DAI22177\tDAI62779\t382\t0.0008\r\n",
      "DAI22177\tDAI63921\t136\t0.0003\r\n",
      "DAI22177\tDAI75645\t123\t0.0003\r\n",
      "DAI22177\tDAI83733\t126\t0.0003\r\n",
      "DAI22177\tDAI85309\t172\t0.0004\r\n",
      "DAI22177\tELE17451\t203\t0.0004\r\n",
      "DAI22177\tELE26917\t134\t0.0003\r\n",
      "DAI22177\tELE32164\t155\t0.0003\r\n",
      "DAI22177\tELE34057\t107\t0.0002\r\n",
      "DAI22177\tELE56788\t134\t0.0003\r\n",
      "DAI22177\tELE66600\t101\t0.0002\r\n",
      "DAI22177\tELE66810\t105\t0.0002\r\n",
      "DAI22177\tELE74009\t108\t0.0002\r\n",
      "DAI22177\tELE91337\t150\t0.0003\r\n",
      "DAI22177\tFRO31317\t160\t0.0003\r\n",
      "DAI22177\tFRO32293\t128\t0.0003\r\n",
      "DAI22177\tFRO40251\t181\t0.0004\r\n",
      "DAI22177\tFRO66272\t130\t0.0003\r\n",
      "DAI22177\tFRO78087\t107\t0.0002\r\n",
      "DAI22177\tFRO80039\t152\t0.0003\r\n",
      "DAI22177\tFRO85978\t156\t0.0003\r\n",
      "DAI22177\tGRO21487\t122\t0.0003\r\n",
      "DAI22177\tGRO30386\t106\t0.0002\r\n",
      "DAI22177\tGRO46854\t160\t0.0003\r\n",
      "DAI22177\tGRO59710\t120\t0.0002\r\n",
      "DAI22177\tGRO71621\t132\t0.0003\r\n",
      "DAI22177\tGRO73461\t248\t0.0005\r\n",
      "DAI22177\tSNA45677\t145\t0.0003\r\n",
      "DAI22177\tSNA55762\t102\t0.0002\r\n",
      "DAI22177\tSNA80324\t140\t0.0003\r\n",
      "DAI22177\tSNA99873\t148\t0.0003\r\n",
      "DAI22240\tDAI62779\t151\t0.0003\r\n",
      "DAI22240\tELE17451\t105\t0.0002\r\n",
      "DAI22240\tELE37048\t219\t0.0004\r\n",
      "DAI22240\tELE74482\t103\t0.0002\r\n",
      "DAI22240\tFRO40251\t112\t0.0002\r\n",
      "DAI22534\tDAI62779\t123\t0.0003\r\n",
      "DAI22896\tDAI62779\t297\t0.0006\r\n",
      "DAI22896\tDAI75645\t215\t0.0004\r\n",
      "DAI22896\tELE17451\t193\t0.0004\r\n",
      "DAI22896\tELE32164\t107\t0.0002\r\n",
      "DAI22896\tELE74009\t165\t0.0003\r\n",
      "DAI22896\tFRO31317\t167\t0.0003\r\n",
      "DAI22896\tFRO40251\t154\t0.0003\r\n",
      "DAI22896\tFRO53271\t123\t0.0003\r\n",
      "DAI22896\tGRO21487\t114\t0.0002\r\n",
      "DAI22896\tGRO30386\t102\t0.0002\r\n",
      "sort: write failed: standard output: Broken pipe\r\n",
      "sort: write error\r\n"
     ]
    }
   ],
   "source": [
    "# 3.5 OUTPUT/ANSWER\n",
    "!hdfs dfs -cat HW3.5-output/part-0000* > HW3.5counts.txt\n",
    "!cat HW3.5counts.txt | sort -k1,2 | head -n50"
   ]
  },
  {
   "cell_type": "markdown",
   "metadata": {},
   "source": [
    "#### END STUDENT CODE HW35"
   ]
  },
  {
   "cell_type": "markdown",
   "metadata": {},
   "source": [
    "# OPTIONAL\n",
    "QUESTIONS  BELOW THIS LINE ARE OPTIONAL"
   ]
  },
  {
   "cell_type": "markdown",
   "metadata": {},
   "source": [
    "<a name=\"3.6\"></a>\n",
    "## HW3.6 Computing Relative Frequencies on 100K WikiPedia pages (93Meg)\n",
    "\n",
    "Dataset description\n",
    "For this assignment you will explore a set of 100,000 Wikipedia documents:\n",
    "\n",
    "https://www.dropbox.com/s/n5lfbnztclo93ej/wikitext_100k.txt?dl=0\n",
    "s3://cs9223/wikitext_100k.txt, or\n",
    "https://s3.amazonaws.com/cs9223/wikitext_100k.txt\n",
    "Each line in this file consists of the plain text extracted from a Wikipedia document.\n",
    "\n",
    "Task\n",
    "Compute the relative frequencies of each word that occurs in the documents in wikitext_100k.txt and output the top 100 word pairs sorted by decreasing order of relative frequency.\n",
    "\n",
    "Recall that the relative frequency (RF) of word B given word A is defined as follows:\n",
    "\n",
    "   f(B|A) = Count(A, B) / Count (A)   =  Count(A, B) / sum_B'(Count (A, B')\n",
    "\n",
    "where count(A,B) is the number of times A and B co-occur within a window of two words (co-occurrence window size of two) in a document and count(A) the number of times A occurs with anything else. Intuitively, given a document collection, the relative frequency captures the proportion of time the word B appears in the same document as A. (See Section 3.3, in Data-Intensive Text Processing with MapReduce).\n",
    "\n",
    "In the async lecture you learned different approaches to do this, and in this assignment, you will implement them:\n",
    "\n",
    "a.\tWrite a mapreduce program which uses the Stripes approach and writes its output in a file named rfstripes.txt \n",
    "\n",
    "b.\tWrite a mapreduce program which uses the Pairs approach and writes its output in a file named rfpairs.txt\n",
    "\n",
    "c.\tCompare the performance of the two approaches and output the relative performance to a file named rfcomp.txt. Compute the relative performance as follows: (running time for Pairs/ running time for Stripes). Also include an analysis comparing the communication costs for the two approaches. Instrument your mapper and reduces for counters where necessary to aid with your analysis.\n",
    "\n",
    "NOTE: please limit your analysis to the top 100 word pairs sorted by decreasing order of relative frequency for each word (tokens with all alphabetical letters).\n",
    "\n",
    "Please include markdown cell named rf.txt that describes the following:\n",
    "\n",
    "the input/output format in each Hadoop task, i.e., the keys for the mappers and reducers\n",
    "the Hadoop cluster settings you used, i.e., number of mappers and reducers\n",
    "the running time for each approach: pairs and stripes\n",
    "\n",
    "You can write your program using Python or MrJob (with Hadoop streaming) and you should run it on AWS. It is a good idea to develop and test your program on a local machine  before deploying on AWS. Remember your notebook, needs to have all the commands you used to run each Mapreduce job (i.e., pairs and stripes) -- include the Hadoop streaming commands you used to run your jobs.\n",
    "\n",
    "In addition the All the following files should be compressed in one ZIP file and submitted. The ZIP file should contain:\n",
    "\n",
    "\n",
    "A.\tThe result files: rfstripes.txt, rfpairs.txt, rfcomp.txt\n",
    "\n",
    "Prior to working with Hadoop, the corpus should first be preprocessed as follows:\n",
    "perform tokenization (whitespace and all non-alphabetic characters) and stopword removal  using standard tools from the Lucene search engine. All tokens should  then be replaced\n",
    "with unique integers for a more efficient encoding. \n",
    "\n",
    "\n",
    "== Preliminary information for the remaing HW problems===\n",
    "\n",
    "Much of this homework beyond this point will focus on the Apriori algorithm for frequent itemset  mining and the additional step for extracting association rules from these frequent itemsets.\n",
    "Please acquaint yourself with the background information (below)\n",
    "before approaching the remaining  assignments.\n",
    "\n",
    "=== Apriori background information ===\n",
    "\n",
    "Some background material for the  Apriori algorithm is located at:\n",
    "\n",
    " - Slides in Live Session #3\n",
    " - https://en.wikipedia.org/wiki/Apriori_algorithm\n",
    " - https://www.dropbox.com/s/k2zm4otych279z2/Apriori-good-slides.pdf?dl=0\n",
    " - http://snap.stanford.edu/class/cs246-2014/slides/02-assocrules.pdf\n",
    "\n",
    "Association Rules are frequently used for Market Basket Analysis (MBA) by retailers to\n",
    "understand the purchase behavior of their customers. This information can be then used for\n",
    "many different purposes such as cross-selling and up-selling of products, sales promotions,\n",
    "loyalty programs, store design, discount plans and many others.\n",
    "Evaluation of item sets: Once you have found the frequent itemsets of a dataset, you need\n",
    "to choose a subset of them as your recommendations. Commonly used metrics for measuring\n",
    "significance and interest for selecting rules for recommendations are: confidence; lift; and conviction."
   ]
  },
  {
   "cell_type": "markdown",
   "metadata": {},
   "source": [
    "<a name=\"3.7\"></a>\n",
    "## HW3.7 Apriori Algorithm\n",
    "What is the Apriori algorithm? Describe an example use in your domain of expertise and what kind of . Define confidence and lift.\n",
    "\n",
    "NOTE:\n",
    "For the remaining homework use the online browsing behavior dataset located at (same dataset as used above): \n",
    "\n",
    "       https://www.dropbox.com/s/zlfyiwa70poqg74/ProductPurchaseData.txt?dl=0\n",
    "\n",
    "Each line in this dataset represents a browsing session of a customer. \n",
    "On each line, each string of 8 characters represents the id of an item browsed during that session. \n",
    "The items are separated by spaces.\n",
    "\n",
    "Here are the first few lines of the ProductPurchaseData \n",
    "FRO11987 ELE17451 ELE89019 SNA90258 GRO99222 \n",
    "GRO99222 GRO12298 FRO12685 ELE91550 SNA11465 ELE26917 ELE52966 FRO90334 SNA30755 ELE17451 FRO84225 SNA80192 \n",
    "ELE17451 GRO73461 DAI22896 SNA99873 FRO86643 \n",
    "ELE17451 ELE37798 FRO86643 GRO56989 ELE23393 SNA11465 \n",
    "ELE17451 SNA69641 FRO86643 FRO78087 SNA11465 GRO39357 ELE28573 ELE11375 DAI54444 "
   ]
  },
  {
   "cell_type": "markdown",
   "metadata": {},
   "source": [
    "<a name=\"3.8\"></a>\n",
    "## HW3.8. Shopping Cart Analysis\n",
    "Product Recommendations: The action or practice of selling additional products or services \n",
    "to existing customers is called cross-selling. Giving product recommendation is \n",
    "one of the examples of cross-selling that are frequently used by online retailers. \n",
    "One simple method to give product recommendations is to recommend products that are frequently\n",
    "browsed together by the customers.\n",
    "\n",
    "Suppose we want to recommend new products to the customer based on the products they\n",
    "have already browsed on the online website. Write a program using the A-priori algorithm\n",
    "to find products which are frequently browsed together. Fix the support to s = 100 \n",
    "(i.e. product sets need to occur together at least 100 times to be considered frequent) \n",
    "and find itemsets of size 2 and 3.\n",
    "\n",
    "Then extract association rules from these frequent items. \n",
    "\n",
    "A rule is of the form: \n",
    "\n",
    "(item1, item5) ⇒ item2.\n",
    "\n",
    "List the top 10 discovered rules in descreasing order of confidence in the following format\n",
    " \n",
    "(item1, item5) ⇒ item2, supportCount ,support, confidence"
   ]
  },
  {
   "cell_type": "markdown",
   "metadata": {},
   "source": [
    "<a name=\"3.8.1\"></a>\n",
    "## HW3.8.1\n",
    "\n",
    "Benchmark your results using the pyFIM implementation of the Apriori algorithm\n",
    "(Apriori - Association Rule Induction / Frequent Item Set Mining implemented by Christian Borgelt). \n",
    "You can download pyFIM from here: \n",
    "\n",
    "http://www.borgelt.net/pyfim.html\n",
    "\n",
    "Comment on the results from both implementations (your Hadoop MapReduce of apriori versus pyFIM) \n",
    "in terms of results and execution times."
   ]
  },
  {
   "cell_type": "markdown",
   "metadata": {},
   "source": [
    "END OF HOMEWORK\n",
    "==============="
   ]
  }
 ],
 "metadata": {
  "anaconda-cloud": {},
  "kernelspec": {
   "display_name": "Python 2",
   "language": "python",
   "name": "python2"
  },
  "language_info": {
   "codemirror_mode": {
    "name": "ipython",
    "version": 2
   },
   "file_extension": ".py",
   "mimetype": "text/x-python",
   "name": "python",
   "nbconvert_exporter": "python",
   "pygments_lexer": "ipython2",
   "version": "2.7.13"
  }
 },
 "nbformat": 4,
 "nbformat_minor": 0
}
